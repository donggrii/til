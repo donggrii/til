{
  "nbformat": 4,
  "nbformat_minor": 0,
  "metadata": {
    "colab": {
      "name": "ADsP_6장_3.ipynb",
      "provenance": [],
      "collapsed_sections": [],
      "toc_visible": true
    },
    "kernelspec": {
      "name": "ir",
      "display_name": "R"
    },
    "language_info": {
      "name": "R"
    }
  },
  "cells": [
    {
      "cell_type": "markdown",
      "metadata": {
        "id": "BP62LlYCwuIo"
      },
      "source": [
        "# 6장. R 기초와 데이터 마트"
      ]
    },
    {
      "cell_type": "markdown",
      "metadata": {
        "id": "DyqMvS0D8W_G"
      },
      "source": [
        "## 3. 결측값 처리와 이상값 검색"
      ]
    },
    {
      "cell_type": "markdown",
      "metadata": {
        "id": "juCqgctY9KZJ"
      },
      "source": [
        "### (2) 데이터 기초 통계"
      ]
    },
    {
      "cell_type": "code",
      "metadata": {
        "colab": {
          "base_uri": "https://localhost:8080/",
          "height": 286
        },
        "id": "cqnEOaye8S42",
        "outputId": "4f4aa57b-01b5-446d-ea67-bfcd33855663"
      },
      "source": [
        "data(iris)\n",
        "head(iris)"
      ],
      "execution_count": 1,
      "outputs": [
        {
          "output_type": "display_data",
          "data": {
            "text/plain": [
              "  Sepal.Length Sepal.Width Petal.Length Petal.Width Species\n",
              "1 5.1          3.5         1.4          0.2         setosa \n",
              "2 4.9          3.0         1.4          0.2         setosa \n",
              "3 4.7          3.2         1.3          0.2         setosa \n",
              "4 4.6          3.1         1.5          0.2         setosa \n",
              "5 5.0          3.6         1.4          0.2         setosa \n",
              "6 5.4          3.9         1.7          0.4         setosa "
            ],
            "text/latex": "A data.frame: 6 × 5\n\\begin{tabular}{r|lllll}\n  & Sepal.Length & Sepal.Width & Petal.Length & Petal.Width & Species\\\\\n  & <dbl> & <dbl> & <dbl> & <dbl> & <fct>\\\\\n\\hline\n\t1 & 5.1 & 3.5 & 1.4 & 0.2 & setosa\\\\\n\t2 & 4.9 & 3.0 & 1.4 & 0.2 & setosa\\\\\n\t3 & 4.7 & 3.2 & 1.3 & 0.2 & setosa\\\\\n\t4 & 4.6 & 3.1 & 1.5 & 0.2 & setosa\\\\\n\t5 & 5.0 & 3.6 & 1.4 & 0.2 & setosa\\\\\n\t6 & 5.4 & 3.9 & 1.7 & 0.4 & setosa\\\\\n\\end{tabular}\n",
            "text/markdown": "\nA data.frame: 6 × 5\n\n| <!--/--> | Sepal.Length &lt;dbl&gt; | Sepal.Width &lt;dbl&gt; | Petal.Length &lt;dbl&gt; | Petal.Width &lt;dbl&gt; | Species &lt;fct&gt; |\n|---|---|---|---|---|---|\n| 1 | 5.1 | 3.5 | 1.4 | 0.2 | setosa |\n| 2 | 4.9 | 3.0 | 1.4 | 0.2 | setosa |\n| 3 | 4.7 | 3.2 | 1.3 | 0.2 | setosa |\n| 4 | 4.6 | 3.1 | 1.5 | 0.2 | setosa |\n| 5 | 5.0 | 3.6 | 1.4 | 0.2 | setosa |\n| 6 | 5.4 | 3.9 | 1.7 | 0.4 | setosa |\n\n",
            "text/html": [
              "<table class=\"dataframe\">\n",
              "<caption>A data.frame: 6 × 5</caption>\n",
              "<thead>\n",
              "\t<tr><th></th><th scope=col>Sepal.Length</th><th scope=col>Sepal.Width</th><th scope=col>Petal.Length</th><th scope=col>Petal.Width</th><th scope=col>Species</th></tr>\n",
              "\t<tr><th></th><th scope=col>&lt;dbl&gt;</th><th scope=col>&lt;dbl&gt;</th><th scope=col>&lt;dbl&gt;</th><th scope=col>&lt;dbl&gt;</th><th scope=col>&lt;fct&gt;</th></tr>\n",
              "</thead>\n",
              "<tbody>\n",
              "\t<tr><th scope=row>1</th><td>5.1</td><td>3.5</td><td>1.4</td><td>0.2</td><td>setosa</td></tr>\n",
              "\t<tr><th scope=row>2</th><td>4.9</td><td>3.0</td><td>1.4</td><td>0.2</td><td>setosa</td></tr>\n",
              "\t<tr><th scope=row>3</th><td>4.7</td><td>3.2</td><td>1.3</td><td>0.2</td><td>setosa</td></tr>\n",
              "\t<tr><th scope=row>4</th><td>4.6</td><td>3.1</td><td>1.5</td><td>0.2</td><td>setosa</td></tr>\n",
              "\t<tr><th scope=row>5</th><td>5.0</td><td>3.6</td><td>1.4</td><td>0.2</td><td>setosa</td></tr>\n",
              "\t<tr><th scope=row>6</th><td>5.4</td><td>3.9</td><td>1.7</td><td>0.4</td><td>setosa</td></tr>\n",
              "</tbody>\n",
              "</table>\n"
            ]
          },
          "metadata": {}
        }
      ]
    },
    {
      "cell_type": "code",
      "metadata": {
        "colab": {
          "base_uri": "https://localhost:8080/"
        },
        "id": "WGL83RoR9Ats",
        "outputId": "fd68192a-8ec2-44d7-f4a9-c3a73d53b84f"
      },
      "source": [
        "str(iris)"
      ],
      "execution_count": 2,
      "outputs": [
        {
          "output_type": "stream",
          "name": "stdout",
          "text": [
            "'data.frame':\t150 obs. of  5 variables:\n",
            " $ Sepal.Length: num  5.1 4.9 4.7 4.6 5 5.4 4.6 5 4.4 4.9 ...\n",
            " $ Sepal.Width : num  3.5 3 3.2 3.1 3.6 3.9 3.4 3.4 2.9 3.1 ...\n",
            " $ Petal.Length: num  1.4 1.4 1.3 1.5 1.4 1.7 1.4 1.5 1.4 1.5 ...\n",
            " $ Petal.Width : num  0.2 0.2 0.2 0.2 0.2 0.4 0.3 0.2 0.2 0.1 ...\n",
            " $ Species     : Factor w/ 3 levels \"setosa\",\"versicolor\",..: 1 1 1 1 1 1 1 1 1 1 ...\n"
          ]
        }
      ]
    },
    {
      "cell_type": "code",
      "metadata": {
        "colab": {
          "base_uri": "https://localhost:8080/",
          "height": 260
        },
        "id": "TRZA1SaR9CUz",
        "outputId": "9c73a4cb-af8b-4f58-bd41-2fb3727860f4"
      },
      "source": [
        "summary(iris)"
      ],
      "execution_count": 3,
      "outputs": [
        {
          "output_type": "display_data",
          "data": {
            "text/plain": [
              "  Sepal.Length    Sepal.Width     Petal.Length    Petal.Width   \n",
              " Min.   :4.300   Min.   :2.000   Min.   :1.000   Min.   :0.100  \n",
              " 1st Qu.:5.100   1st Qu.:2.800   1st Qu.:1.600   1st Qu.:0.300  \n",
              " Median :5.800   Median :3.000   Median :4.350   Median :1.300  \n",
              " Mean   :5.843   Mean   :3.057   Mean   :3.758   Mean   :1.199  \n",
              " 3rd Qu.:6.400   3rd Qu.:3.300   3rd Qu.:5.100   3rd Qu.:1.800  \n",
              " Max.   :7.900   Max.   :4.400   Max.   :6.900   Max.   :2.500  \n",
              "       Species  \n",
              " setosa    :50  \n",
              " versicolor:50  \n",
              " virginica :50  \n",
              "                \n",
              "                \n",
              "                "
            ]
          },
          "metadata": {}
        }
      ]
    },
    {
      "cell_type": "code",
      "metadata": {
        "colab": {
          "base_uri": "https://localhost:8080/",
          "height": 192
        },
        "id": "EqQX_sae9DZW",
        "outputId": "d94c7ae0-9f42-4686-d1b0-2eba6ac8aa1a"
      },
      "source": [
        "cov(iris[, 1:4])   # 공분산"
      ],
      "execution_count": 4,
      "outputs": [
        {
          "output_type": "display_data",
          "data": {
            "text/plain": [
              "             Sepal.Length Sepal.Width Petal.Length Petal.Width\n",
              "Sepal.Length  0.6856935   -0.0424340   1.2743154    0.5162707 \n",
              "Sepal.Width  -0.0424340    0.1899794  -0.3296564   -0.1216394 \n",
              "Petal.Length  1.2743154   -0.3296564   3.1162779    1.2956094 \n",
              "Petal.Width   0.5162707   -0.1216394   1.2956094    0.5810063 "
            ],
            "text/latex": "A matrix: 4 × 4 of type dbl\n\\begin{tabular}{r|llll}\n  & Sepal.Length & Sepal.Width & Petal.Length & Petal.Width\\\\\n\\hline\n\tSepal.Length &  0.6856935 & -0.0424340 &  1.2743154 &  0.5162707\\\\\n\tSepal.Width & -0.0424340 &  0.1899794 & -0.3296564 & -0.1216394\\\\\n\tPetal.Length &  1.2743154 & -0.3296564 &  3.1162779 &  1.2956094\\\\\n\tPetal.Width &  0.5162707 & -0.1216394 &  1.2956094 &  0.5810063\\\\\n\\end{tabular}\n",
            "text/markdown": "\nA matrix: 4 × 4 of type dbl\n\n| <!--/--> | Sepal.Length | Sepal.Width | Petal.Length | Petal.Width |\n|---|---|---|---|---|\n| Sepal.Length |  0.6856935 | -0.0424340 |  1.2743154 |  0.5162707 |\n| Sepal.Width | -0.0424340 |  0.1899794 | -0.3296564 | -0.1216394 |\n| Petal.Length |  1.2743154 | -0.3296564 |  3.1162779 |  1.2956094 |\n| Petal.Width |  0.5162707 | -0.1216394 |  1.2956094 |  0.5810063 |\n\n",
            "text/html": [
              "<table class=\"dataframe\">\n",
              "<caption>A matrix: 4 × 4 of type dbl</caption>\n",
              "<thead>\n",
              "\t<tr><th></th><th scope=col>Sepal.Length</th><th scope=col>Sepal.Width</th><th scope=col>Petal.Length</th><th scope=col>Petal.Width</th></tr>\n",
              "</thead>\n",
              "<tbody>\n",
              "\t<tr><th scope=row>Sepal.Length</th><td> 0.6856935</td><td>-0.0424340</td><td> 1.2743154</td><td> 0.5162707</td></tr>\n",
              "\t<tr><th scope=row>Sepal.Width</th><td>-0.0424340</td><td> 0.1899794</td><td>-0.3296564</td><td>-0.1216394</td></tr>\n",
              "\t<tr><th scope=row>Petal.Length</th><td> 1.2743154</td><td>-0.3296564</td><td> 3.1162779</td><td> 1.2956094</td></tr>\n",
              "\t<tr><th scope=row>Petal.Width</th><td> 0.5162707</td><td>-0.1216394</td><td> 1.2956094</td><td> 0.5810063</td></tr>\n",
              "</tbody>\n",
              "</table>\n"
            ]
          },
          "metadata": {}
        }
      ]
    },
    {
      "cell_type": "code",
      "metadata": {
        "colab": {
          "base_uri": "https://localhost:8080/",
          "height": 192
        },
        "id": "ZJsLYBVG9Frd",
        "outputId": "f2a3dec0-9168-4d65-933c-28e1bb061baa"
      },
      "source": [
        "cor(iris[, 1:4])   # 상관계수"
      ],
      "execution_count": 5,
      "outputs": [
        {
          "output_type": "display_data",
          "data": {
            "text/plain": [
              "             Sepal.Length Sepal.Width Petal.Length Petal.Width\n",
              "Sepal.Length  1.0000000   -0.1175698   0.8717538    0.8179411 \n",
              "Sepal.Width  -0.1175698    1.0000000  -0.4284401   -0.3661259 \n",
              "Petal.Length  0.8717538   -0.4284401   1.0000000    0.9628654 \n",
              "Petal.Width   0.8179411   -0.3661259   0.9628654    1.0000000 "
            ],
            "text/latex": "A matrix: 4 × 4 of type dbl\n\\begin{tabular}{r|llll}\n  & Sepal.Length & Sepal.Width & Petal.Length & Petal.Width\\\\\n\\hline\n\tSepal.Length &  1.0000000 & -0.1175698 &  0.8717538 &  0.8179411\\\\\n\tSepal.Width & -0.1175698 &  1.0000000 & -0.4284401 & -0.3661259\\\\\n\tPetal.Length &  0.8717538 & -0.4284401 &  1.0000000 &  0.9628654\\\\\n\tPetal.Width &  0.8179411 & -0.3661259 &  0.9628654 &  1.0000000\\\\\n\\end{tabular}\n",
            "text/markdown": "\nA matrix: 4 × 4 of type dbl\n\n| <!--/--> | Sepal.Length | Sepal.Width | Petal.Length | Petal.Width |\n|---|---|---|---|---|\n| Sepal.Length |  1.0000000 | -0.1175698 |  0.8717538 |  0.8179411 |\n| Sepal.Width | -0.1175698 |  1.0000000 | -0.4284401 | -0.3661259 |\n| Petal.Length |  0.8717538 | -0.4284401 |  1.0000000 |  0.9628654 |\n| Petal.Width |  0.8179411 | -0.3661259 |  0.9628654 |  1.0000000 |\n\n",
            "text/html": [
              "<table class=\"dataframe\">\n",
              "<caption>A matrix: 4 × 4 of type dbl</caption>\n",
              "<thead>\n",
              "\t<tr><th></th><th scope=col>Sepal.Length</th><th scope=col>Sepal.Width</th><th scope=col>Petal.Length</th><th scope=col>Petal.Width</th></tr>\n",
              "</thead>\n",
              "<tbody>\n",
              "\t<tr><th scope=row>Sepal.Length</th><td> 1.0000000</td><td>-0.1175698</td><td> 0.8717538</td><td> 0.8179411</td></tr>\n",
              "\t<tr><th scope=row>Sepal.Width</th><td>-0.1175698</td><td> 1.0000000</td><td>-0.4284401</td><td>-0.3661259</td></tr>\n",
              "\t<tr><th scope=row>Petal.Length</th><td> 0.8717538</td><td>-0.4284401</td><td> 1.0000000</td><td> 0.9628654</td></tr>\n",
              "\t<tr><th scope=row>Petal.Width</th><td> 0.8179411</td><td>-0.3661259</td><td> 0.9628654</td><td> 1.0000000</td></tr>\n",
              "</tbody>\n",
              "</table>\n"
            ]
          },
          "metadata": {}
        }
      ]
    },
    {
      "cell_type": "markdown",
      "metadata": {
        "id": "IYdaPgjQ9M7a"
      },
      "source": [
        "### (3) 결측값 처리\n",
        "\n",
        "- Amelia 패키지 사용\n",
        "- 결측값은 NA(Not Available), 불가능한 값은 NaN(Not a Number)"
      ]
    },
    {
      "cell_type": "code",
      "metadata": {
        "colab": {
          "base_uri": "https://localhost:8080/",
          "height": 34
        },
        "id": "ylGmQgqr9H-x",
        "outputId": "76013fcd-6aa2-4628-dfab-05b892571f24"
      },
      "source": [
        "y <- c(1, 2, 3, NA)\n",
        "is.na(y)  # is.na() : 결측값 여부 확인"
      ],
      "execution_count": 6,
      "outputs": [
        {
          "output_type": "display_data",
          "data": {
            "text/plain": [
              "[1] FALSE FALSE FALSE  TRUE"
            ],
            "text/latex": "\\begin{enumerate*}\n\\item FALSE\n\\item FALSE\n\\item FALSE\n\\item TRUE\n\\end{enumerate*}\n",
            "text/markdown": "1. FALSE\n2. FALSE\n3. FALSE\n4. TRUE\n\n\n",
            "text/html": [
              "<style>\n",
              ".list-inline {list-style: none; margin:0; padding: 0}\n",
              ".list-inline>li {display: inline-block}\n",
              ".list-inline>li:not(:last-child)::after {content: \"\\00b7\"; padding: 0 .5ex}\n",
              "</style>\n",
              "<ol class=list-inline><li>FALSE</li><li>FALSE</li><li>FALSE</li><li>TRUE</li></ol>\n"
            ]
          },
          "metadata": {}
        }
      ]
    },
    {
      "cell_type": "code",
      "metadata": {
        "colab": {
          "base_uri": "https://localhost:8080/",
          "height": 34
        },
        "id": "kFSTVHg9E6qk",
        "outputId": "095da323-dece-4a81-c497-e39a49334b9d"
      },
      "source": [
        "# iris 데이터 특정값 결측처리\n",
        "data(iris)\n",
        "iris[iris$Petal.Width == 0.2, \"Petal.Width\"] <- NA\n",
        "is.na(iris$Petal.Width)[1:10]"
      ],
      "execution_count": 7,
      "outputs": [
        {
          "output_type": "display_data",
          "data": {
            "text/plain": [
              " [1]  TRUE  TRUE  TRUE  TRUE  TRUE FALSE FALSE  TRUE  TRUE FALSE"
            ],
            "text/latex": "\\begin{enumerate*}\n\\item TRUE\n\\item TRUE\n\\item TRUE\n\\item TRUE\n\\item TRUE\n\\item FALSE\n\\item FALSE\n\\item TRUE\n\\item TRUE\n\\item FALSE\n\\end{enumerate*}\n",
            "text/markdown": "1. TRUE\n2. TRUE\n3. TRUE\n4. TRUE\n5. TRUE\n6. FALSE\n7. FALSE\n8. TRUE\n9. TRUE\n10. FALSE\n\n\n",
            "text/html": [
              "<style>\n",
              ".list-inline {list-style: none; margin:0; padding: 0}\n",
              ".list-inline>li {display: inline-block}\n",
              ".list-inline>li:not(:last-child)::after {content: \"\\00b7\"; padding: 0 .5ex}\n",
              "</style>\n",
              "<ol class=list-inline><li>TRUE</li><li>TRUE</li><li>TRUE</li><li>TRUE</li><li>TRUE</li><li>FALSE</li><li>FALSE</li><li>TRUE</li><li>TRUE</li><li>FALSE</li></ol>\n"
            ]
          },
          "metadata": {}
        }
      ]
    },
    {
      "cell_type": "code",
      "metadata": {
        "colab": {
          "base_uri": "https://localhost:8080/",
          "height": 34
        },
        "id": "9blgfyDwkOMX",
        "outputId": "5f38770d-29b5-4d74-f9f5-83a41703e3f8"
      },
      "source": [
        "iris[1:10, \"Petal.Width\"]"
      ],
      "execution_count": 8,
      "outputs": [
        {
          "output_type": "display_data",
          "data": {
            "text/plain": [
              " [1]  NA  NA  NA  NA  NA 0.4 0.3  NA  NA 0.1"
            ],
            "text/latex": "\\begin{enumerate*}\n\\item <NA>\n\\item <NA>\n\\item <NA>\n\\item <NA>\n\\item <NA>\n\\item 0.4\n\\item 0.3\n\\item <NA>\n\\item <NA>\n\\item 0.1\n\\end{enumerate*}\n",
            "text/markdown": "1. &lt;NA&gt;\n2. &lt;NA&gt;\n3. &lt;NA&gt;\n4. &lt;NA&gt;\n5. &lt;NA&gt;\n6. 0.4\n7. 0.3\n8. &lt;NA&gt;\n9. &lt;NA&gt;\n10. 0.1\n\n\n",
            "text/html": [
              "<style>\n",
              ".list-inline {list-style: none; margin:0; padding: 0}\n",
              ".list-inline>li {display: inline-block}\n",
              ".list-inline>li:not(:last-child)::after {content: \"\\00b7\"; padding: 0 .5ex}\n",
              "</style>\n",
              "<ol class=list-inline><li>&lt;NA&gt;</li><li>&lt;NA&gt;</li><li>&lt;NA&gt;</li><li>&lt;NA&gt;</li><li>&lt;NA&gt;</li><li>0.4</li><li>0.3</li><li>&lt;NA&gt;</li><li>&lt;NA&gt;</li><li>0.1</li></ol>\n"
            ]
          },
          "metadata": {}
        }
      ]
    },
    {
      "cell_type": "code",
      "metadata": {
        "colab": {
          "base_uri": "https://localhost:8080/",
          "height": 359
        },
        "id": "lYBuVxNUFJ-b",
        "outputId": "35b4db30-60d6-41d0-c122-d8182e90d22c"
      },
      "source": [
        "# reshape 패키지의 complete.cases() 함수 : 해당 행의 모든 값이 NA가 아닌 경우 TRUE, 해당 행의 값이 하나라도 NA를 포함하고 있는 경우 FALSE를 반환\n",
        "# 이를 활용하여 NA를 포함하는 행 찾기\n",
        "install.packages(\"reshape\")\n",
        "library(reshape)\n",
        "data(french_fries)\n",
        "french_fries[!complete.cases(french_fries),]   # 결측열만 추출"
      ],
      "execution_count": 9,
      "outputs": [
        {
          "output_type": "stream",
          "name": "stderr",
          "text": [
            "Installing package into ‘/usr/local/lib/R/site-library’\n",
            "(as ‘lib’ is unspecified)\n",
            "\n",
            "also installing the dependency ‘plyr’\n",
            "\n",
            "\n"
          ]
        },
        {
          "output_type": "display_data",
          "data": {
            "text/plain": [
              "    time treatment subject rep potato buttery grassy rancid painty\n",
              "315 5    3         15      1     NA   NA       NA     NA    NA    \n",
              "455 7    2         79      1    7.3   NA      0.0    0.7     0    \n",
              "515 8    1         79      1   10.5   NA      0.0    0.5     0    \n",
              "520 8    2         16      1    4.5   NA      1.4    6.7     0    \n",
              "563 8    2         79      2    5.7    0      1.4    2.3    NA    "
            ],
            "text/latex": "A data.frame: 5 × 9\n\\begin{tabular}{r|lllllllll}\n  & time & treatment & subject & rep & potato & buttery & grassy & rancid & painty\\\\\n  & <fct> & <fct> & <fct> & <dbl> & <dbl> & <dbl> & <dbl> & <dbl> & <dbl>\\\\\n\\hline\n\t315 & 5 & 3 & 15 & 1 &   NA & NA &  NA &  NA & NA\\\\\n\t455 & 7 & 2 & 79 & 1 &  7.3 & NA & 0.0 & 0.7 &  0\\\\\n\t515 & 8 & 1 & 79 & 1 & 10.5 & NA & 0.0 & 0.5 &  0\\\\\n\t520 & 8 & 2 & 16 & 1 &  4.5 & NA & 1.4 & 6.7 &  0\\\\\n\t563 & 8 & 2 & 79 & 2 &  5.7 &  0 & 1.4 & 2.3 & NA\\\\\n\\end{tabular}\n",
            "text/markdown": "\nA data.frame: 5 × 9\n\n| <!--/--> | time &lt;fct&gt; | treatment &lt;fct&gt; | subject &lt;fct&gt; | rep &lt;dbl&gt; | potato &lt;dbl&gt; | buttery &lt;dbl&gt; | grassy &lt;dbl&gt; | rancid &lt;dbl&gt; | painty &lt;dbl&gt; |\n|---|---|---|---|---|---|---|---|---|---|\n| 315 | 5 | 3 | 15 | 1 |   NA | NA |  NA |  NA | NA |\n| 455 | 7 | 2 | 79 | 1 |  7.3 | NA | 0.0 | 0.7 |  0 |\n| 515 | 8 | 1 | 79 | 1 | 10.5 | NA | 0.0 | 0.5 |  0 |\n| 520 | 8 | 2 | 16 | 1 |  4.5 | NA | 1.4 | 6.7 |  0 |\n| 563 | 8 | 2 | 79 | 2 |  5.7 |  0 | 1.4 | 2.3 | NA |\n\n",
            "text/html": [
              "<table class=\"dataframe\">\n",
              "<caption>A data.frame: 5 × 9</caption>\n",
              "<thead>\n",
              "\t<tr><th></th><th scope=col>time</th><th scope=col>treatment</th><th scope=col>subject</th><th scope=col>rep</th><th scope=col>potato</th><th scope=col>buttery</th><th scope=col>grassy</th><th scope=col>rancid</th><th scope=col>painty</th></tr>\n",
              "\t<tr><th></th><th scope=col>&lt;fct&gt;</th><th scope=col>&lt;fct&gt;</th><th scope=col>&lt;fct&gt;</th><th scope=col>&lt;dbl&gt;</th><th scope=col>&lt;dbl&gt;</th><th scope=col>&lt;dbl&gt;</th><th scope=col>&lt;dbl&gt;</th><th scope=col>&lt;dbl&gt;</th><th scope=col>&lt;dbl&gt;</th></tr>\n",
              "</thead>\n",
              "<tbody>\n",
              "\t<tr><th scope=row>315</th><td>5</td><td>3</td><td>15</td><td>1</td><td>  NA</td><td>NA</td><td> NA</td><td> NA</td><td>NA</td></tr>\n",
              "\t<tr><th scope=row>455</th><td>7</td><td>2</td><td>79</td><td>1</td><td> 7.3</td><td>NA</td><td>0.0</td><td>0.7</td><td> 0</td></tr>\n",
              "\t<tr><th scope=row>515</th><td>8</td><td>1</td><td>79</td><td>1</td><td>10.5</td><td>NA</td><td>0.0</td><td>0.5</td><td> 0</td></tr>\n",
              "\t<tr><th scope=row>520</th><td>8</td><td>2</td><td>16</td><td>1</td><td> 4.5</td><td>NA</td><td>1.4</td><td>6.7</td><td> 0</td></tr>\n",
              "\t<tr><th scope=row>563</th><td>8</td><td>2</td><td>79</td><td>2</td><td> 5.7</td><td> 0</td><td>1.4</td><td>2.3</td><td>NA</td></tr>\n",
              "</tbody>\n",
              "</table>\n"
            ]
          },
          "metadata": {}
        }
      ]
    },
    {
      "cell_type": "code",
      "metadata": {
        "colab": {
          "base_uri": "https://localhost:8080/",
          "height": 547
        },
        "id": "YAeMCLk8Fucq",
        "outputId": "ce72c710-3ab2-4e58-809a-ba7c5094c121"
      },
      "source": [
        "# Amelia 패키지를 이용한 결측값 imputation\n",
        "install.packages(\"Amelia\")\n",
        "library(Amelia)\n",
        "data(freetrade)\n",
        "head(freetrade)"
      ],
      "execution_count": 10,
      "outputs": [
        {
          "output_type": "stream",
          "name": "stderr",
          "text": [
            "Installing package into ‘/usr/local/lib/R/site-library’\n",
            "(as ‘lib’ is unspecified)\n",
            "\n",
            "also installing the dependency ‘RcppArmadillo’\n",
            "\n",
            "\n",
            "Loading required package: Rcpp\n",
            "\n",
            "## \n",
            "## Amelia II: Multiple Imputation\n",
            "## (Version 1.8.0, built: 2021-05-26)\n",
            "## Copyright (C) 2005-2021 James Honaker, Gary King and Matthew Blackwell\n",
            "## Refer to http://gking.harvard.edu/amelia/ for more information\n",
            "## \n",
            "\n"
          ]
        },
        {
          "output_type": "display_data",
          "data": {
            "text/plain": [
              "  year country  tariff polity pop      gdp.pc   intresmi signed fiveop\n",
              "1 1981 SriLanka   NA   6      14988000 461.0236 1.937347 0      12.4  \n",
              "2 1982 SriLanka   NA   5      15189000 473.7634 1.964430 0      12.5  \n",
              "3 1983 SriLanka 41.3   5      15417000 489.2266 1.663936 1      12.3  \n",
              "4 1984 SriLanka   NA   5      15599000 508.1739 2.797462 0      12.3  \n",
              "5 1985 SriLanka 31.0   5      15837000 525.5609 2.259116 0      12.3  \n",
              "6 1986 SriLanka   NA   5      16117000 538.9237 1.832549 0      12.5  \n",
              "  usheg    \n",
              "1 0.2593112\n",
              "2 0.2558008\n",
              "3 0.2655022\n",
              "4 0.2988009\n",
              "5 0.2952431\n",
              "6 0.2886563"
            ],
            "text/latex": "A data.frame: 6 × 10\n\\begin{tabular}{r|llllllllll}\n  & year & country & tariff & polity & pop & gdp.pc & intresmi & signed & fiveop & usheg\\\\\n  & <int> & <chr> & <dbl> & <int> & <dbl> & <dbl> & <dbl> & <int> & <dbl> & <dbl>\\\\\n\\hline\n\t1 & 1981 & SriLanka &   NA & 6 & 14988000 & 461.0236 & 1.937347 & 0 & 12.4 & 0.2593112\\\\\n\t2 & 1982 & SriLanka &   NA & 5 & 15189000 & 473.7634 & 1.964430 & 0 & 12.5 & 0.2558008\\\\\n\t3 & 1983 & SriLanka & 41.3 & 5 & 15417000 & 489.2266 & 1.663936 & 1 & 12.3 & 0.2655022\\\\\n\t4 & 1984 & SriLanka &   NA & 5 & 15599000 & 508.1739 & 2.797462 & 0 & 12.3 & 0.2988009\\\\\n\t5 & 1985 & SriLanka & 31.0 & 5 & 15837000 & 525.5609 & 2.259116 & 0 & 12.3 & 0.2952431\\\\\n\t6 & 1986 & SriLanka &   NA & 5 & 16117000 & 538.9237 & 1.832549 & 0 & 12.5 & 0.2886563\\\\\n\\end{tabular}\n",
            "text/markdown": "\nA data.frame: 6 × 10\n\n| <!--/--> | year &lt;int&gt; | country &lt;chr&gt; | tariff &lt;dbl&gt; | polity &lt;int&gt; | pop &lt;dbl&gt; | gdp.pc &lt;dbl&gt; | intresmi &lt;dbl&gt; | signed &lt;int&gt; | fiveop &lt;dbl&gt; | usheg &lt;dbl&gt; |\n|---|---|---|---|---|---|---|---|---|---|---|\n| 1 | 1981 | SriLanka |   NA | 6 | 14988000 | 461.0236 | 1.937347 | 0 | 12.4 | 0.2593112 |\n| 2 | 1982 | SriLanka |   NA | 5 | 15189000 | 473.7634 | 1.964430 | 0 | 12.5 | 0.2558008 |\n| 3 | 1983 | SriLanka | 41.3 | 5 | 15417000 | 489.2266 | 1.663936 | 1 | 12.3 | 0.2655022 |\n| 4 | 1984 | SriLanka |   NA | 5 | 15599000 | 508.1739 | 2.797462 | 0 | 12.3 | 0.2988009 |\n| 5 | 1985 | SriLanka | 31.0 | 5 | 15837000 | 525.5609 | 2.259116 | 0 | 12.3 | 0.2952431 |\n| 6 | 1986 | SriLanka |   NA | 5 | 16117000 | 538.9237 | 1.832549 | 0 | 12.5 | 0.2886563 |\n\n",
            "text/html": [
              "<table class=\"dataframe\">\n",
              "<caption>A data.frame: 6 × 10</caption>\n",
              "<thead>\n",
              "\t<tr><th></th><th scope=col>year</th><th scope=col>country</th><th scope=col>tariff</th><th scope=col>polity</th><th scope=col>pop</th><th scope=col>gdp.pc</th><th scope=col>intresmi</th><th scope=col>signed</th><th scope=col>fiveop</th><th scope=col>usheg</th></tr>\n",
              "\t<tr><th></th><th scope=col>&lt;int&gt;</th><th scope=col>&lt;chr&gt;</th><th scope=col>&lt;dbl&gt;</th><th scope=col>&lt;int&gt;</th><th scope=col>&lt;dbl&gt;</th><th scope=col>&lt;dbl&gt;</th><th scope=col>&lt;dbl&gt;</th><th scope=col>&lt;int&gt;</th><th scope=col>&lt;dbl&gt;</th><th scope=col>&lt;dbl&gt;</th></tr>\n",
              "</thead>\n",
              "<tbody>\n",
              "\t<tr><th scope=row>1</th><td>1981</td><td>SriLanka</td><td>  NA</td><td>6</td><td>14988000</td><td>461.0236</td><td>1.937347</td><td>0</td><td>12.4</td><td>0.2593112</td></tr>\n",
              "\t<tr><th scope=row>2</th><td>1982</td><td>SriLanka</td><td>  NA</td><td>5</td><td>15189000</td><td>473.7634</td><td>1.964430</td><td>0</td><td>12.5</td><td>0.2558008</td></tr>\n",
              "\t<tr><th scope=row>3</th><td>1983</td><td>SriLanka</td><td>41.3</td><td>5</td><td>15417000</td><td>489.2266</td><td>1.663936</td><td>1</td><td>12.3</td><td>0.2655022</td></tr>\n",
              "\t<tr><th scope=row>4</th><td>1984</td><td>SriLanka</td><td>  NA</td><td>5</td><td>15599000</td><td>508.1739</td><td>2.797462</td><td>0</td><td>12.3</td><td>0.2988009</td></tr>\n",
              "\t<tr><th scope=row>5</th><td>1985</td><td>SriLanka</td><td>31.0</td><td>5</td><td>15837000</td><td>525.5609</td><td>2.259116</td><td>0</td><td>12.3</td><td>0.2952431</td></tr>\n",
              "\t<tr><th scope=row>6</th><td>1986</td><td>SriLanka</td><td>  NA</td><td>5</td><td>16117000</td><td>538.9237</td><td>1.832549</td><td>0</td><td>12.5</td><td>0.2886563</td></tr>\n",
              "</tbody>\n",
              "</table>\n"
            ]
          },
          "metadata": {}
        }
      ]
    },
    {
      "cell_type": "code",
      "metadata": {
        "colab": {
          "base_uri": "https://localhost:8080/"
        },
        "id": "H3N-aYtNF-5Q",
        "outputId": "be8331ce-c17f-4dea-ca20-4fc8b4239029"
      },
      "source": [
        "# 다중 전가(Multiple Imputation)\n",
        "a.out <- amelia(freetrade, m = 5, ts = \"year\", cs = \"country\")   # m = imputation 데이터셋 수(기본적으로 5 사용), ts : time-series variable, cs : cross-sectional variable"
      ],
      "execution_count": 11,
      "outputs": [
        {
          "output_type": "stream",
          "name": "stdout",
          "text": [
            "-- Imputation 1 --\n",
            "\n",
            "  1  2  3  4  5  6  7  8  9 10 11 12 13 14 15 16 17\n",
            "\n",
            "-- Imputation 2 --\n",
            "\n",
            "  1  2  3  4  5  6  7  8  9 10 11 12 13 14 15\n",
            "\n",
            "-- Imputation 3 --\n",
            "\n",
            "  1  2  3  4  5  6  7  8  9 10 11 12 13 14 15 16 17\n",
            "\n",
            "-- Imputation 4 --\n",
            "\n",
            "  1  2  3  4  5  6  7  8  9 10 11\n",
            "\n",
            "-- Imputation 5 --\n",
            "\n",
            "  1  2  3  4  5  6  7  8  9 10 11 12 13 14\n",
            "\n"
          ]
        }
      ]
    },
    {
      "cell_type": "code",
      "metadata": {
        "colab": {
          "base_uri": "https://localhost:8080/",
          "height": 225
        },
        "id": "shcRdOHpH32f",
        "outputId": "0f4c05d9-3ff2-4468-8981-69dbed11ee49"
      },
      "source": [
        "a.out"
      ],
      "execution_count": 12,
      "outputs": [
        {
          "output_type": "display_data",
          "data": {
            "text/plain": [
              "\n",
              "Amelia output with 5 imputed datasets.\n",
              "Return code:  1 \n",
              "Message:  Normal EM convergence. \n",
              "\n",
              "Chain Lengths:\n",
              "--------------\n",
              "Imputation 1:  17\n",
              "Imputation 2:  15\n",
              "Imputation 3:  17\n",
              "Imputation 4:  11\n",
              "Imputation 5:  14\n"
            ]
          },
          "metadata": {}
        }
      ]
    },
    {
      "cell_type": "code",
      "metadata": {
        "colab": {
          "base_uri": "https://localhost:8080/",
          "height": 437
        },
        "id": "16RLqnk2JOpX",
        "outputId": "6f48fbc2-d1f1-405d-a8c9-6d9b34ce4274"
      },
      "source": [
        "# 결측값을 처리하기 전\n",
        "missmap(a.out)     # misssmap() : 결측 지도(missingness map). 결측 상태의 데이터셋 그리드와 컬러 그리드 시각화(행은 관측, 열은 변수)"
      ],
      "execution_count": 13,
      "outputs": [
        {
          "output_type": "display_data",
          "data": {
            "image/png": "[encoded data removed]",
            "text/plain": [
              "Plot with title “Missingness Map”"
            ]
          },
          "metadata": {
            "image/png": {
              "width": 420,
              "height": 420
            }
          }
        }
      ]
    },
    {
      "cell_type": "code",
      "metadata": {
        "id": "2rjdK8TOGHKn",
        "colab": {
          "base_uri": "https://localhost:8080/",
          "height": 437
        },
        "outputId": "d83f0836-0712-4243-c13f-198582eae144"
      },
      "source": [
        "hist(a.out$imputations[[3]]$tariff, col = \"grey\", border = \"white\")   # 3번째 imputation 데이터셋 적용된 tariff 변수를 히스토그램으로 나타내기"
      ],
      "execution_count": 14,
      "outputs": [
        {
          "output_type": "display_data",
          "data": {
            "image/png": "[encoded data removed]",
            "text/plain": [
              "Plot with title “Histogram of a.out$imputations[[3]]$tariff”"
            ]
          },
          "metadata": {
            "image/png": {
              "width": 420,
              "height": 420
            }
          }
        }
      ]
    },
    {
      "cell_type": "code",
      "metadata": {
        "colab": {
          "base_uri": "https://localhost:8080/",
          "height": 437
        },
        "id": "mwQ_CIB_n1xn",
        "outputId": "c41a855c-a65e-44b9-ed09-2de1cf9731d2"
      },
      "source": [
        "# 결측값을 처리하기 후(imputation 3번째 사용)\n",
        "freetrade$tariff <- a.out$imputations[[3]]$tariff        # imputation 값을 데이터셋에 사용\n",
        "missmap(freetrade)"
      ],
      "execution_count": 15,
      "outputs": [
        {
          "output_type": "display_data",
          "data": {
            "image/png": "[encoded data removed]",
            "text/plain": [
              "Plot with title “Missingness Map”"
            ]
          },
          "metadata": {
            "image/png": {
              "width": 420,
              "height": 420
            }
          }
        }
      ]
    },
    {
      "cell_type": "code",
      "metadata": {
        "colab": {
          "base_uri": "https://localhost:8080/",
          "height": 437
        },
        "id": "O6cc9jB8nqH8",
        "outputId": "802f4619-6783-4424-de0d-14ed4e0bdfd3"
      },
      "source": [
        "# 결측값을 처리하기 후(imputation 5번째 사용)\n",
        "freetrade$tariff <- a.out$imputations[[5]]$tariff        # imputation 값을 데이터셋에 사용\n",
        "missmap(freetrade)"
      ],
      "execution_count": 16,
      "outputs": [
        {
          "output_type": "display_data",
          "data": {
            "image/png": "[encoded data removed]",
            "text/plain": [
              "Plot with title “Missingness Map”"
            ]
          },
          "metadata": {
            "image/png": {
              "width": 420,
              "height": 420
            }
          }
        }
      ]
    },
    {
      "cell_type": "markdown",
      "metadata": {
        "id": "91v_VUBCobGp"
      },
      "source": [
        "### (4) 이상값 검색\n",
        "\n",
        "- 이상값과 관련된 알고리즘으로 ESD, MADM 및 boxplot, summary 함수 등을 이용함"
      ]
    },
    {
      "cell_type": "code",
      "metadata": {
        "colab": {
          "base_uri": "https://localhost:8080/",
          "height": 86
        },
        "id": "bR73N6CLn3uO",
        "outputId": "c4fdad1f-7e2f-4d31-c8ad-127cc1f61057"
      },
      "source": [
        "install.packages(\"outliers\")\n",
        "library(outliers)\n",
        "set.seed(1234)\n",
        "y = rnorm(100)\n",
        "outlier(y)       # 평균과 가장 차이가 많이 나는 값 출력"
      ],
      "execution_count": 17,
      "outputs": [
        {
          "output_type": "stream",
          "name": "stderr",
          "text": [
            "Installing package into ‘/usr/local/lib/R/site-library’\n",
            "(as ‘lib’ is unspecified)\n",
            "\n"
          ]
        },
        {
          "output_type": "display_data",
          "data": {
            "text/plain": [
              "[1] 2.548991"
            ],
            "text/latex": "2.54899107071786",
            "text/markdown": "2.54899107071786",
            "text/html": [
              "2.54899107071786"
            ]
          },
          "metadata": {}
        }
      ]
    },
    {
      "cell_type": "code",
      "metadata": {
        "colab": {
          "base_uri": "https://localhost:8080/",
          "height": 34
        },
        "id": "1uHJKVoqpOZw",
        "outputId": "c72d1cf7-6049-4c48-98da-cef22b67db8a"
      },
      "source": [
        "outlier(y, opposite = TRUE)     # 반대 방향으로 가장 차이가 많이 나는 값 출력"
      ],
      "execution_count": 18,
      "outputs": [
        {
          "output_type": "display_data",
          "data": {
            "text/plain": [
              "[1] -2.345698"
            ],
            "text/latex": "-2.34569770262935",
            "text/markdown": "-2.34569770262935",
            "text/html": [
              "-2.34569770262935"
            ]
          },
          "metadata": {}
        }
      ]
    },
    {
      "cell_type": "code",
      "metadata": {
        "colab": {
          "base_uri": "https://localhost:8080/",
          "height": 34
        },
        "id": "QZEHVv4Opg97",
        "outputId": "0f4b6bc1-9d26-406c-9089-dc2ed48e296f"
      },
      "source": [
        "y[1:10]"
      ],
      "execution_count": 19,
      "outputs": [
        {
          "output_type": "display_data",
          "data": {
            "text/plain": [
              " [1] -1.2070657  0.2774292  1.0844412 -2.3456977  0.4291247  0.5060559\n",
              " [7] -0.5747400 -0.5466319 -0.5644520 -0.8900378"
            ],
            "text/latex": "\\begin{enumerate*}\n\\item -1.20706574938542\n\\item 0.27742924211066\n\\item 1.08444117668306\n\\item -2.34569770262935\n\\item 0.42912468881105\n\\item 0.506055892157574\n\\item -0.574739960134649\n\\item -0.546631855784187\n\\item -0.564451999093283\n\\item -0.890037829044104\n\\end{enumerate*}\n",
            "text/markdown": "1. -1.20706574938542\n2. 0.27742924211066\n3. 1.08444117668306\n4. -2.34569770262935\n5. 0.42912468881105\n6. 0.506055892157574\n7. -0.574739960134649\n8. -0.546631855784187\n9. -0.564451999093283\n10. -0.890037829044104\n\n\n",
            "text/html": [
              "<style>\n",
              ".list-inline {list-style: none; margin:0; padding: 0}\n",
              ".list-inline>li {display: inline-block}\n",
              ".list-inline>li:not(:last-child)::after {content: \"\\00b7\"; padding: 0 .5ex}\n",
              "</style>\n",
              "<ol class=list-inline><li>-1.20706574938542</li><li>0.27742924211066</li><li>1.08444117668306</li><li>-2.34569770262935</li><li>0.42912468881105</li><li>0.506055892157574</li><li>-0.574739960134649</li><li>-0.546631855784187</li><li>-0.564451999093283</li><li>-0.890037829044104</li></ol>\n"
            ]
          },
          "metadata": {}
        }
      ]
    },
    {
      "cell_type": "code",
      "metadata": {
        "colab": {
          "base_uri": "https://localhost:8080/",
          "height": 662
        },
        "id": "NlXGZOmspT_n",
        "outputId": "d88e51dc-d377-441b-96af-50f5aae789f9"
      },
      "source": [
        "dim(y) <- c(20, 5)      # (20 x 5) 행렬 생성\n",
        "y"
      ],
      "execution_count": 20,
      "outputs": [
        {
          "output_type": "display_data",
          "data": {
            "text/plain": [
              "      [,1]        [,2]       [,3]       [,4]         [,5]       \n",
              " [1,] -1.20706575  0.1340882  1.4494963  0.656588464 -0.17778996\n",
              " [2,]  0.27742924 -0.4906859 -1.0686427  2.548991071 -0.16999408\n",
              " [3,]  1.08444118 -0.4405479 -0.8553646 -0.034760390 -1.37230189\n",
              " [4,] -2.34569770  0.4595894 -0.2806230 -0.669633580 -0.17378717\n",
              " [5,]  0.42912469 -0.6937202 -0.9943401 -0.007604756  0.85023226\n",
              " [6,]  0.50605589 -1.4482049 -0.9685143  1.777084448  0.69760871\n",
              " [7,] -0.57473996  0.5747557 -1.1073182 -1.138607737  0.54999735\n",
              " [8,] -0.54663186 -1.0236557 -1.2519859  1.367827179 -0.40273198\n",
              " [9,] -0.56445200 -0.0151383 -0.5238281  1.329564791 -0.19159377\n",
              "[10,] -0.89003783 -0.9359486 -0.4968500  0.336472797 -1.19452788\n",
              "[11,] -0.47719270  1.1022975 -1.8060313  0.006892838 -0.05315882\n",
              "[12,] -0.99838644 -0.4755931 -0.5820759 -0.455468738  0.25519600\n",
              "[13,] -0.77625389 -0.7094400 -1.1088896 -0.366523933  1.70596401\n",
              "[14,]  0.06445882 -0.5012581 -1.0149620  0.648286568  1.00151325\n",
              "[15,]  0.95949406 -1.6290935 -0.1623095  2.070270861 -0.49558344\n",
              "[16,] -0.11028549 -1.1676193  0.5630558 -0.153398412  0.35555030\n",
              "[17,] -0.51100951 -2.1800396  1.6478175 -1.390700947 -1.13460804\n",
              "[18,] -0.91119542 -1.3409932 -0.7733534 -0.723581777  0.87820363\n",
              "[19,] -0.83717168 -0.2942939  1.6059096  0.258261762  0.97291675\n",
              "[20,]  2.41583518 -0.4658975 -1.1578085 -0.317059115  2.12111711"
            ],
            "text/latex": "A matrix: 20 × 5 of type dbl\n\\begin{tabular}{lllll}\n\t -1.20706575 &  0.1340882 &  1.4494963 &  0.656588464 & -0.17778996\\\\\n\t  0.27742924 & -0.4906859 & -1.0686427 &  2.548991071 & -0.16999408\\\\\n\t  1.08444118 & -0.4405479 & -0.8553646 & -0.034760390 & -1.37230189\\\\\n\t -2.34569770 &  0.4595894 & -0.2806230 & -0.669633580 & -0.17378717\\\\\n\t  0.42912469 & -0.6937202 & -0.9943401 & -0.007604756 &  0.85023226\\\\\n\t  0.50605589 & -1.4482049 & -0.9685143 &  1.777084448 &  0.69760871\\\\\n\t -0.57473996 &  0.5747557 & -1.1073182 & -1.138607737 &  0.54999735\\\\\n\t -0.54663186 & -1.0236557 & -1.2519859 &  1.367827179 & -0.40273198\\\\\n\t -0.56445200 & -0.0151383 & -0.5238281 &  1.329564791 & -0.19159377\\\\\n\t -0.89003783 & -0.9359486 & -0.4968500 &  0.336472797 & -1.19452788\\\\\n\t -0.47719270 &  1.1022975 & -1.8060313 &  0.006892838 & -0.05315882\\\\\n\t -0.99838644 & -0.4755931 & -0.5820759 & -0.455468738 &  0.25519600\\\\\n\t -0.77625389 & -0.7094400 & -1.1088896 & -0.366523933 &  1.70596401\\\\\n\t  0.06445882 & -0.5012581 & -1.0149620 &  0.648286568 &  1.00151325\\\\\n\t  0.95949406 & -1.6290935 & -0.1623095 &  2.070270861 & -0.49558344\\\\\n\t -0.11028549 & -1.1676193 &  0.5630558 & -0.153398412 &  0.35555030\\\\\n\t -0.51100951 & -2.1800396 &  1.6478175 & -1.390700947 & -1.13460804\\\\\n\t -0.91119542 & -1.3409932 & -0.7733534 & -0.723581777 &  0.87820363\\\\\n\t -0.83717168 & -0.2942939 &  1.6059096 &  0.258261762 &  0.97291675\\\\\n\t  2.41583518 & -0.4658975 & -1.1578085 & -0.317059115 &  2.12111711\\\\\n\\end{tabular}\n",
            "text/markdown": "\nA matrix: 20 × 5 of type dbl\n\n| -1.20706575 |  0.1340882 |  1.4494963 |  0.656588464 | -0.17778996 |\n|  0.27742924 | -0.4906859 | -1.0686427 |  2.548991071 | -0.16999408 |\n|  1.08444118 | -0.4405479 | -0.8553646 | -0.034760390 | -1.37230189 |\n| -2.34569770 |  0.4595894 | -0.2806230 | -0.669633580 | -0.17378717 |\n|  0.42912469 | -0.6937202 | -0.9943401 | -0.007604756 |  0.85023226 |\n|  0.50605589 | -1.4482049 | -0.9685143 |  1.777084448 |  0.69760871 |\n| -0.57473996 |  0.5747557 | -1.1073182 | -1.138607737 |  0.54999735 |\n| -0.54663186 | -1.0236557 | -1.2519859 |  1.367827179 | -0.40273198 |\n| -0.56445200 | -0.0151383 | -0.5238281 |  1.329564791 | -0.19159377 |\n| -0.89003783 | -0.9359486 | -0.4968500 |  0.336472797 | -1.19452788 |\n| -0.47719270 |  1.1022975 | -1.8060313 |  0.006892838 | -0.05315882 |\n| -0.99838644 | -0.4755931 | -0.5820759 | -0.455468738 |  0.25519600 |\n| -0.77625389 | -0.7094400 | -1.1088896 | -0.366523933 |  1.70596401 |\n|  0.06445882 | -0.5012581 | -1.0149620 |  0.648286568 |  1.00151325 |\n|  0.95949406 | -1.6290935 | -0.1623095 |  2.070270861 | -0.49558344 |\n| -0.11028549 | -1.1676193 |  0.5630558 | -0.153398412 |  0.35555030 |\n| -0.51100951 | -2.1800396 |  1.6478175 | -1.390700947 | -1.13460804 |\n| -0.91119542 | -1.3409932 | -0.7733534 | -0.723581777 |  0.87820363 |\n| -0.83717168 | -0.2942939 |  1.6059096 |  0.258261762 |  0.97291675 |\n|  2.41583518 | -0.4658975 | -1.1578085 | -0.317059115 |  2.12111711 |\n\n",
            "text/html": [
              "<table class=\"dataframe\">\n",
              "<caption>A matrix: 20 × 5 of type dbl</caption>\n",
              "<tbody>\n",
              "\t<tr><td>-1.20706575</td><td> 0.1340882</td><td> 1.4494963</td><td> 0.656588464</td><td>-0.17778996</td></tr>\n",
              "\t<tr><td> 0.27742924</td><td>-0.4906859</td><td>-1.0686427</td><td> 2.548991071</td><td>-0.16999408</td></tr>\n",
              "\t<tr><td> 1.08444118</td><td>-0.4405479</td><td>-0.8553646</td><td>-0.034760390</td><td>-1.37230189</td></tr>\n",
              "\t<tr><td>-2.34569770</td><td> 0.4595894</td><td>-0.2806230</td><td>-0.669633580</td><td>-0.17378717</td></tr>\n",
              "\t<tr><td> 0.42912469</td><td>-0.6937202</td><td>-0.9943401</td><td>-0.007604756</td><td> 0.85023226</td></tr>\n",
              "\t<tr><td> 0.50605589</td><td>-1.4482049</td><td>-0.9685143</td><td> 1.777084448</td><td> 0.69760871</td></tr>\n",
              "\t<tr><td>-0.57473996</td><td> 0.5747557</td><td>-1.1073182</td><td>-1.138607737</td><td> 0.54999735</td></tr>\n",
              "\t<tr><td>-0.54663186</td><td>-1.0236557</td><td>-1.2519859</td><td> 1.367827179</td><td>-0.40273198</td></tr>\n",
              "\t<tr><td>-0.56445200</td><td>-0.0151383</td><td>-0.5238281</td><td> 1.329564791</td><td>-0.19159377</td></tr>\n",
              "\t<tr><td>-0.89003783</td><td>-0.9359486</td><td>-0.4968500</td><td> 0.336472797</td><td>-1.19452788</td></tr>\n",
              "\t<tr><td>-0.47719270</td><td> 1.1022975</td><td>-1.8060313</td><td> 0.006892838</td><td>-0.05315882</td></tr>\n",
              "\t<tr><td>-0.99838644</td><td>-0.4755931</td><td>-0.5820759</td><td>-0.455468738</td><td> 0.25519600</td></tr>\n",
              "\t<tr><td>-0.77625389</td><td>-0.7094400</td><td>-1.1088896</td><td>-0.366523933</td><td> 1.70596401</td></tr>\n",
              "\t<tr><td> 0.06445882</td><td>-0.5012581</td><td>-1.0149620</td><td> 0.648286568</td><td> 1.00151325</td></tr>\n",
              "\t<tr><td> 0.95949406</td><td>-1.6290935</td><td>-0.1623095</td><td> 2.070270861</td><td>-0.49558344</td></tr>\n",
              "\t<tr><td>-0.11028549</td><td>-1.1676193</td><td> 0.5630558</td><td>-0.153398412</td><td> 0.35555030</td></tr>\n",
              "\t<tr><td>-0.51100951</td><td>-2.1800396</td><td> 1.6478175</td><td>-1.390700947</td><td>-1.13460804</td></tr>\n",
              "\t<tr><td>-0.91119542</td><td>-1.3409932</td><td>-0.7733534</td><td>-0.723581777</td><td> 0.87820363</td></tr>\n",
              "\t<tr><td>-0.83717168</td><td>-0.2942939</td><td> 1.6059096</td><td> 0.258261762</td><td> 0.97291675</td></tr>\n",
              "\t<tr><td> 2.41583518</td><td>-0.4658975</td><td>-1.1578085</td><td>-0.317059115</td><td> 2.12111711</td></tr>\n",
              "</tbody>\n",
              "</table>\n"
            ]
          },
          "metadata": {}
        }
      ]
    },
    {
      "cell_type": "code",
      "metadata": {
        "colab": {
          "base_uri": "https://localhost:8080/",
          "height": 34
        },
        "id": "eg2wfN-upigA",
        "outputId": "8ecded11-2c68-4f1b-88f3-b732aebfaadc"
      },
      "source": [
        "outlier(y)     # 각 열의 평균과 가장 차이가 많은 값을 각 column별로 출력"
      ],
      "execution_count": 21,
      "outputs": [
        {
          "output_type": "display_data",
          "data": {
            "text/plain": [
              "[1] 2.415835 1.102298 1.647817 2.548991 2.121117"
            ],
            "text/latex": "\\begin{enumerate*}\n\\item 2.41583517848934\n\\item 1.10229754620026\n\\item 1.64781747281506\n\\item 2.54899107071786\n\\item 2.12111710537568\n\\end{enumerate*}\n",
            "text/markdown": "1. 2.41583517848934\n2. 1.10229754620026\n3. 1.64781747281506\n4. 2.54899107071786\n5. 2.12111710537568\n\n\n",
            "text/html": [
              "<style>\n",
              ".list-inline {list-style: none; margin:0; padding: 0}\n",
              ".list-inline>li {display: inline-block}\n",
              ".list-inline>li:not(:last-child)::after {content: \"\\00b7\"; padding: 0 .5ex}\n",
              "</style>\n",
              "<ol class=list-inline><li>2.41583517848934</li><li>1.10229754620026</li><li>1.64781747281506</li><li>2.54899107071786</li><li>2.12111710537568</li></ol>\n"
            ]
          },
          "metadata": {}
        }
      ]
    },
    {
      "cell_type": "code",
      "metadata": {
        "colab": {
          "base_uri": "https://localhost:8080/",
          "height": 34
        },
        "id": "OYqwYH2hpk7e",
        "outputId": "3d62646c-81f6-4656-846a-edc84332e440"
      },
      "source": [
        "outlier(y, opposite = TRUE)   # 각 column별로 반대 방향으로 열 평균과 가장 차이가 많은 값 출력"
      ],
      "execution_count": 22,
      "outputs": [
        {
          "output_type": "display_data",
          "data": {
            "text/plain": [
              "[1] -2.345698 -2.180040 -1.806031 -1.390701 -1.372302"
            ],
            "text/latex": "\\begin{enumerate*}\n\\item -2.34569770262935\n\\item -2.18003964894867\n\\item -1.80603125680195\n\\item -1.39070094670149\n\\item -1.37230188587669\n\\end{enumerate*}\n",
            "text/markdown": "1. -2.34569770262935\n2. -2.18003964894867\n3. -1.80603125680195\n4. -1.39070094670149\n5. -1.37230188587669\n\n\n",
            "text/html": [
              "<style>\n",
              ".list-inline {list-style: none; margin:0; padding: 0}\n",
              ".list-inline>li {display: inline-block}\n",
              ".list-inline>li:not(:last-child)::after {content: \"\\00b7\"; padding: 0 .5ex}\n",
              "</style>\n",
              "<ol class=list-inline><li>-2.34569770262935</li><li>-2.18003964894867</li><li>-1.80603125680195</li><li>-1.39070094670149</li><li>-1.37230188587669</li></ol>\n"
            ]
          },
          "metadata": {}
        }
      ]
    },
    {
      "cell_type": "code",
      "metadata": {
        "colab": {
          "base_uri": "https://localhost:8080/",
          "height": 437
        },
        "id": "Kh3CoOUtpzqS",
        "outputId": "60f883d2-e780-4a51-a1c4-91e27a32b94d"
      },
      "source": [
        "boxplot(y)"
      ],
      "execution_count": 23,
      "outputs": [
        {
          "output_type": "display_data",
          "data": {
            "image/png": "[encoded data removed]",
            "text/plain": [
              "plot without title"
            ]
          },
          "metadata": {
            "image/png": {
              "width": 420,
              "height": 420
            }
          }
        }
      ]
    },
    {
      "cell_type": "markdown",
      "metadata": {
        "id": "0UiKTYHTp5j1"
      },
      "source": [
        "### (추가) 왜도(skew), 첨도(kurtosis) 확인하기"
      ]
    },
    {
      "cell_type": "code",
      "metadata": {
        "colab": {
          "base_uri": "https://localhost:8080/",
          "height": 34
        },
        "id": "WX9g3CYEp0yu",
        "outputId": "4f41844f-7d1b-4076-fd72-056ac3c2db13"
      },
      "source": [
        "x <- rchisq(100, 5)         # 자유도가 5인 카이제곱분포에서 난수 100개를 만들면 왼쪽으로 기울어진 분포(왜도 값이 양의 값을 가지면 Positive Skewness, Right-skewed)\n",
        "x[1:10]"
      ],
      "execution_count": 24,
      "outputs": [
        {
          "output_type": "display_data",
          "data": {
            "text/plain": [
              " [1] 5.258364 2.769972 5.945100 3.343355 4.486260 1.866626 9.333808 5.627947\n",
              " [9] 7.473748 5.330427"
            ],
            "text/latex": "\\begin{enumerate*}\n\\item 5.25836448874723\n\\item 2.76997220740647\n\\item 5.94509975107585\n\\item 3.34335515051328\n\\item 4.48625971817138\n\\item 1.86662596030765\n\\item 9.33380818456411\n\\item 5.62794729789778\n\\item 7.47374822558663\n\\item 5.33042733369127\n\\end{enumerate*}\n",
            "text/markdown": "1. 5.25836448874723\n2. 2.76997220740647\n3. 5.94509975107585\n4. 3.34335515051328\n5. 4.48625971817138\n6. 1.86662596030765\n7. 9.33380818456411\n8. 5.62794729789778\n9. 7.47374822558663\n10. 5.33042733369127\n\n\n",
            "text/html": [
              "<style>\n",
              ".list-inline {list-style: none; margin:0; padding: 0}\n",
              ".list-inline>li {display: inline-block}\n",
              ".list-inline>li:not(:last-child)::after {content: \"\\00b7\"; padding: 0 .5ex}\n",
              "</style>\n",
              "<ol class=list-inline><li>5.25836448874723</li><li>2.76997220740647</li><li>5.94509975107585</li><li>3.34335515051328</li><li>4.48625971817138</li><li>1.86662596030765</li><li>9.33380818456411</li><li>5.62794729789778</li><li>7.47374822558663</li><li>5.33042733369127</li></ol>\n"
            ]
          },
          "metadata": {}
        }
      ]
    },
    {
      "cell_type": "code",
      "metadata": {
        "colab": {
          "base_uri": "https://localhost:8080/",
          "height": 437
        },
        "id": "EqXJSc2JqF0k",
        "outputId": "1ceabc94-7f0b-4b07-a03f-fb69678abbf3"
      },
      "source": [
        "hist(x)"
      ],
      "execution_count": 25,
      "outputs": [
        {
          "output_type": "display_data",
          "data": {
            "image/png": "[encoded data removed]",
            "text/plain": [
              "Plot with title “Histogram of x”"
            ]
          },
          "metadata": {
            "image/png": {
              "width": 420,
              "height": 420
            }
          }
        }
      ]
    },
    {
      "cell_type": "code",
      "metadata": {
        "colab": {
          "base_uri": "https://localhost:8080/",
          "height": 390
        },
        "id": "Zq4L7BTXqIUV",
        "outputId": "e3d963a8-3da4-40ea-fada-f3549123d84c"
      },
      "source": [
        "install.packages(\"psych\")\n",
        "library(psych)\n",
        "describe(x)"
      ],
      "execution_count": 26,
      "outputs": [
        {
          "output_type": "stream",
          "name": "stderr",
          "text": [
            "Installing package into ‘/usr/local/lib/R/site-library’\n",
            "(as ‘lib’ is unspecified)\n",
            "\n",
            "also installing the dependencies ‘tmvnsim’, ‘mnormt’\n",
            "\n",
            "\n",
            "\n",
            "Attaching package: ‘psych’\n",
            "\n",
            "\n",
            "The following object is masked from ‘package:outliers’:\n",
            "\n",
            "    outlier\n",
            "\n",
            "\n"
          ]
        },
        {
          "output_type": "display_data",
          "data": {
            "text/plain": [
              "   vars n   mean     sd       median   trimmed  mad      min      max     \n",
              "X1 1    100 5.225973 3.206235 4.806235 4.867572 2.590007 0.498219 17.14095\n",
              "   range    skew     kurtosis se       \n",
              "X1 16.64274 1.295362 2.268529 0.3206235"
            ],
            "text/latex": "A psych: 1 × 13\n\\begin{tabular}{r|lllllllllllll}\n  & vars & n & mean & sd & median & trimmed & mad & min & max & range & skew & kurtosis & se\\\\\n  & <dbl> & <dbl> & <dbl> & <dbl> & <dbl> & <dbl> & <dbl> & <dbl> & <dbl> & <dbl> & <dbl> & <dbl> & <dbl>\\\\\n\\hline\n\tX1 & 1 & 100 & 5.225973 & 3.206235 & 4.806235 & 4.867572 & 2.590007 & 0.498219 & 17.14095 & 16.64274 & 1.295362 & 2.268529 & 0.3206235\\\\\n\\end{tabular}\n",
            "text/markdown": "\nA psych: 1 × 13\n\n| <!--/--> | vars &lt;dbl&gt; | n &lt;dbl&gt; | mean &lt;dbl&gt; | sd &lt;dbl&gt; | median &lt;dbl&gt; | trimmed &lt;dbl&gt; | mad &lt;dbl&gt; | min &lt;dbl&gt; | max &lt;dbl&gt; | range &lt;dbl&gt; | skew &lt;dbl&gt; | kurtosis &lt;dbl&gt; | se &lt;dbl&gt; |\n|---|---|---|---|---|---|---|---|---|---|---|---|---|---|\n| X1 | 1 | 100 | 5.225973 | 3.206235 | 4.806235 | 4.867572 | 2.590007 | 0.498219 | 17.14095 | 16.64274 | 1.295362 | 2.268529 | 0.3206235 |\n\n",
            "text/html": [
              "<table class=\"dataframe\">\n",
              "<caption>A psych: 1 × 13</caption>\n",
              "<thead>\n",
              "\t<tr><th></th><th scope=col>vars</th><th scope=col>n</th><th scope=col>mean</th><th scope=col>sd</th><th scope=col>median</th><th scope=col>trimmed</th><th scope=col>mad</th><th scope=col>min</th><th scope=col>max</th><th scope=col>range</th><th scope=col>skew</th><th scope=col>kurtosis</th><th scope=col>se</th></tr>\n",
              "\t<tr><th></th><th scope=col>&lt;dbl&gt;</th><th scope=col>&lt;dbl&gt;</th><th scope=col>&lt;dbl&gt;</th><th scope=col>&lt;dbl&gt;</th><th scope=col>&lt;dbl&gt;</th><th scope=col>&lt;dbl&gt;</th><th scope=col>&lt;dbl&gt;</th><th scope=col>&lt;dbl&gt;</th><th scope=col>&lt;dbl&gt;</th><th scope=col>&lt;dbl&gt;</th><th scope=col>&lt;dbl&gt;</th><th scope=col>&lt;dbl&gt;</th><th scope=col>&lt;dbl&gt;</th></tr>\n",
              "</thead>\n",
              "<tbody>\n",
              "\t<tr><th scope=row>X1</th><td>1</td><td>100</td><td>5.225973</td><td>3.206235</td><td>4.806235</td><td>4.867572</td><td>2.590007</td><td>0.498219</td><td>17.14095</td><td>16.64274</td><td>1.295362</td><td>2.268529</td><td>0.3206235</td></tr>\n",
              "</tbody>\n",
              "</table>\n"
            ]
          },
          "metadata": {}
        }
      ]
    }
  ]
}