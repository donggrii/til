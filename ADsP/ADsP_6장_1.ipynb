{
  "nbformat": 4,
  "nbformat_minor": 0,
  "metadata": {
    "colab": {
      "name": "ADsP_6장_1.ipynb",
      "provenance": [],
      "collapsed_sections": [],
      "toc_visible": true
    },
    "kernelspec": {
      "name": "ir",
      "display_name": "R"
    },
    "language_info": {
      "name": "R"
    }
  },
  "cells": [
    {
      "cell_type": "markdown",
      "metadata": {
        "id": "BP62LlYCwuIo"
      },
      "source": [
        "# 6장. R 기초와 데이터 마트"
      ]
    },
    {
      "cell_type": "markdown",
      "metadata": {
        "id": "9d6t0gdiyISp"
      },
      "source": [
        "## 2. R 언어와 문법"
      ]
    },
    {
      "cell_type": "markdown",
      "metadata": {
        "id": "5NYq7NeBtNnE"
      },
      "source": [
        "### (1) 벡터\n",
        "- 하나의 스칼라값, 혹은 하나 이상의 스칼라 원소들을 갖는 단순한 형태의 집합. 동일한 자료형을 갖는 값들의 집합!\n",
        "- 벡터 생성함수 : c(), seq(), rep()"
      ]
    },
    {
      "cell_type": "markdown",
      "metadata": {
        "id": "jDlPO5fUtQPb"
      },
      "source": [
        "### (2) 행렬(Matrix)\n",
        "- 한 가지 유형의 스칼라만 사용 가능\n",
        "- 행렬 생성함수 : matrix(data, nrow, ncol, byrow = FALSE, dimnames = NULL)\n",
        "  - ncol : 열의 수. R은 기본적으로 열을 우선으로 값들을 채우는 방향으로 입력됨\n",
        "  - byrow = FALSE : FALSE일 경우 열 우선으로, TRUE일 경우 행 우선으로"
      ]
    },
    {
      "cell_type": "code",
      "metadata": {
        "id": "Sgr5dagqyNX-",
        "colab": {
          "base_uri": "https://localhost:8080/",
          "height": 198
        },
        "outputId": "f5adbead-aa98-4194-be9f-6df1538dfca2"
      },
      "source": [
        "# 행렬\n",
        "m <- matrix(c(1, 2, 3, 4, 5, 6), ncol = 2)\n",
        "m"
      ],
      "execution_count": 1,
      "outputs": [
        {
          "output_type": "display_data",
          "data": {
            "text/plain": [
              "     [,1] [,2]\n",
              "[1,] 1    4   \n",
              "[2,] 2    5   \n",
              "[3,] 3    6   "
            ],
            "text/latex": "A matrix: 3 × 2 of type dbl\n\\begin{tabular}{ll}\n\t 1 & 4\\\\\n\t 2 & 5\\\\\n\t 3 & 6\\\\\n\\end{tabular}\n",
            "text/markdown": "\nA matrix: 3 × 2 of type dbl\n\n| 1 | 4 |\n| 2 | 5 |\n| 3 | 6 |\n\n",
            "text/html": [
              "<table class=\"dataframe\">\n",
              "<caption>A matrix: 3 × 2 of type dbl</caption>\n",
              "<tbody>\n",
              "\t<tr><td>1</td><td>4</td></tr>\n",
              "\t<tr><td>2</td><td>5</td></tr>\n",
              "\t<tr><td>3</td><td>6</td></tr>\n",
              "</tbody>\n",
              "</table>\n"
            ]
          },
          "metadata": {}
        }
      ]
    },
    {
      "cell_type": "code",
      "metadata": {
        "colab": {
          "base_uri": "https://localhost:8080/",
          "height": 178
        },
        "id": "10j9cOzHtN2G",
        "outputId": "967537dd-0755-4ee3-ef91-be234dfc0bf5"
      },
      "source": [
        "# 이미 만들어진 행렬에는 dimnames()를 사용해 행과 열 이름을 부여할 수 있음\n",
        "dimnames(m) <- list(c(\"t1\", \"t2\", \"t3\"), c(\"a1\", \"a2\"))\n",
        "m"
      ],
      "execution_count": 2,
      "outputs": [
        {
          "output_type": "display_data",
          "data": {
            "text/plain": [
              "   a1 a2\n",
              "t1 1  4 \n",
              "t2 2  5 \n",
              "t3 3  6 "
            ],
            "text/latex": "A matrix: 3 × 2 of type dbl\n\\begin{tabular}{r|ll}\n  & a1 & a2\\\\\n\\hline\n\tt1 & 1 & 4\\\\\n\tt2 & 2 & 5\\\\\n\tt3 & 3 & 6\\\\\n\\end{tabular}\n",
            "text/markdown": "\nA matrix: 3 × 2 of type dbl\n\n| <!--/--> | a1 | a2 |\n|---|---|---|\n| t1 | 1 | 4 |\n| t2 | 2 | 5 |\n| t3 | 3 | 6 |\n\n",
            "text/html": [
              "<table class=\"dataframe\">\n",
              "<caption>A matrix: 3 × 2 of type dbl</caption>\n",
              "<thead>\n",
              "\t<tr><th></th><th scope=col>a1</th><th scope=col>a2</th></tr>\n",
              "</thead>\n",
              "<tbody>\n",
              "\t<tr><th scope=row>t1</th><td>1</td><td>4</td></tr>\n",
              "\t<tr><th scope=row>t2</th><td>2</td><td>5</td></tr>\n",
              "\t<tr><th scope=row>t3</th><td>3</td><td>6</td></tr>\n",
              "</tbody>\n",
              "</table>\n"
            ]
          },
          "metadata": {}
        }
      ]
    },
    {
      "cell_type": "code",
      "metadata": {
        "colab": {
          "base_uri": "https://localhost:8080/",
          "height": 177
        },
        "id": "g6MHiSylti7j",
        "outputId": "b3ab3622-8134-4e7f-87ad-b3cbd02f8d39"
      },
      "source": [
        "# rbind() : 기존의 행렬에 row 추가\n",
        "# cbind() : 기존의 행렬에 column 추가\n",
        "m <- matrix(c(1, 2, 3, 4, 5, 6), ncol = 2)\n",
        "r1 <- c(10, 10)\n",
        "rbind(m, r1)"
      ],
      "execution_count": 3,
      "outputs": [
        {
          "output_type": "display_data",
          "data": {
            "text/plain": [
              "   [,1] [,2]\n",
              "    1    4  \n",
              "    2    5  \n",
              "    3    6  \n",
              "r1 10   10  "
            ],
            "text/latex": "A matrix: 4 × 2 of type dbl\n\\begin{tabular}{r|ll}\n\t &  1 &  4\\\\\n\t &  2 &  5\\\\\n\t &  3 &  6\\\\\n\tr1 & 10 & 10\\\\\n\\end{tabular}\n",
            "text/markdown": "\nA matrix: 4 × 2 of type dbl\n\n| <!----> |  1 |  4 |\n| <!----> |  2 |  5 |\n| <!----> |  3 |  6 |\n| r1 | 10 | 10 |\n\n",
            "text/html": [
              "<table class=\"dataframe\">\n",
              "<caption>A matrix: 4 × 2 of type dbl</caption>\n",
              "<tbody>\n",
              "\t<tr><th scope=row></th><td> 1</td><td> 4</td></tr>\n",
              "\t<tr><th scope=row></th><td> 2</td><td> 5</td></tr>\n",
              "\t<tr><th scope=row></th><td> 3</td><td> 6</td></tr>\n",
              "\t<tr><th scope=row>r1</th><td>10</td><td>10</td></tr>\n",
              "</tbody>\n",
              "</table>\n"
            ]
          },
          "metadata": {}
        }
      ]
    },
    {
      "cell_type": "markdown",
      "metadata": {
        "id": "pOJC74OPtk-7"
      },
      "source": [
        "### (3) 데이터 프레임"
      ]
    },
    {
      "cell_type": "code",
      "metadata": {
        "colab": {
          "base_uri": "https://localhost:8080/",
          "height": 192
        },
        "id": "sNeJLrxLt4sO",
        "outputId": "e3e8a521-a98e-4886-972a-5e1d42381336"
      },
      "source": [
        "# 데이터 프레임 생성\n",
        "a1 <- c(100, 200, 300)\n",
        "b1 <- c(\"a\", \"b\", \"c\")\n",
        "c1 <- c(FALSE, FALSE, FALSE)\n",
        "D <- data.frame(income = a1, car = b1, marriage = c1)\n",
        "D"
      ],
      "execution_count": 4,
      "outputs": [
        {
          "output_type": "display_data",
          "data": {
            "text/plain": [
              "  income car marriage\n",
              "1 100    a   FALSE   \n",
              "2 200    b   FALSE   \n",
              "3 300    c   FALSE   "
            ],
            "text/latex": "A data.frame: 3 × 3\n\\begin{tabular}{lll}\n income & car & marriage\\\\\n <dbl> & <chr> & <lgl>\\\\\n\\hline\n\t 100 & a & FALSE\\\\\n\t 200 & b & FALSE\\\\\n\t 300 & c & FALSE\\\\\n\\end{tabular}\n",
            "text/markdown": "\nA data.frame: 3 × 3\n\n| income &lt;dbl&gt; | car &lt;chr&gt; | marriage &lt;lgl&gt; |\n|---|---|---|\n| 100 | a | FALSE |\n| 200 | b | FALSE |\n| 300 | c | FALSE |\n\n",
            "text/html": [
              "<table class=\"dataframe\">\n",
              "<caption>A data.frame: 3 × 3</caption>\n",
              "<thead>\n",
              "\t<tr><th scope=col>income</th><th scope=col>car</th><th scope=col>marriage</th></tr>\n",
              "\t<tr><th scope=col>&lt;dbl&gt;</th><th scope=col>&lt;chr&gt;</th><th scope=col>&lt;lgl&gt;</th></tr>\n",
              "</thead>\n",
              "<tbody>\n",
              "\t<tr><td>100</td><td>a</td><td>FALSE</td></tr>\n",
              "\t<tr><td>200</td><td>b</td><td>FALSE</td></tr>\n",
              "\t<tr><td>300</td><td>c</td><td>FALSE</td></tr>\n",
              "</tbody>\n",
              "</table>\n"
            ]
          },
          "metadata": {}
        }
      ]
    },
    {
      "cell_type": "markdown",
      "metadata": {
        "id": "brIVwaETtEI1"
      },
      "source": [
        "### (4) 배열(Array)"
      ]
    },
    {
      "cell_type": "code",
      "metadata": {
        "colab": {
          "base_uri": "https://localhost:8080/",
          "height": 146
        },
        "id": "mh5o1Ho0ugnO",
        "outputId": "a08f2501-52ae-4782-fddb-d302c186697f"
      },
      "source": [
        "# 배열(행렬(matrix)이 2차원 데이터라면, 배열(array)은 다차원 데이터)\n",
        "array(1:12, dim = c(3, 4))  # (3 x 4) 차원 배열"
      ],
      "execution_count": 5,
      "outputs": [
        {
          "output_type": "display_data",
          "data": {
            "text/plain": [
              "     [,1] [,2] [,3] [,4]\n",
              "[1,] 1    4    7    10  \n",
              "[2,] 2    5    8    11  \n",
              "[3,] 3    6    9    12  "
            ],
            "text/latex": "A matrix: 3 × 4 of type int\n\\begin{tabular}{llll}\n\t 1 & 4 & 7 & 10\\\\\n\t 2 & 5 & 8 & 11\\\\\n\t 3 & 6 & 9 & 12\\\\\n\\end{tabular}\n",
            "text/markdown": "\nA matrix: 3 × 4 of type int\n\n| 1 | 4 | 7 | 10 |\n| 2 | 5 | 8 | 11 |\n| 3 | 6 | 9 | 12 |\n\n",
            "text/html": [
              "<table class=\"dataframe\">\n",
              "<caption>A matrix: 3 × 4 of type int</caption>\n",
              "<tbody>\n",
              "\t<tr><td>1</td><td>4</td><td>7</td><td>10</td></tr>\n",
              "\t<tr><td>2</td><td>5</td><td>8</td><td>11</td></tr>\n",
              "\t<tr><td>3</td><td>6</td><td>9</td><td>12</td></tr>\n",
              "</tbody>\n",
              "</table>\n"
            ]
          },
          "metadata": {}
        }
      ]
    },
    {
      "cell_type": "code",
      "metadata": {
        "colab": {
          "base_uri": "https://localhost:8080/",
          "height": 34
        },
        "id": "cVT1IVQGrjoK",
        "outputId": "20aa8859-056c-4007-c9fd-9af4395d4d83"
      },
      "source": [
        "# (2 x 2 x 3) 차원의 배열로 생성 가능 1\n",
        "x <- array(1:12, dim = c(2, 2, 3))\n",
        "x"
      ],
      "execution_count": 6,
      "outputs": [
        {
          "output_type": "display_data",
          "data": {
            "text/plain": [
              ", , 1\n",
              "\n",
              "     [,1] [,2]\n",
              "[1,]    1    3\n",
              "[2,]    2    4\n",
              "\n",
              ", , 2\n",
              "\n",
              "     [,1] [,2]\n",
              "[1,]    5    7\n",
              "[2,]    6    8\n",
              "\n",
              ", , 3\n",
              "\n",
              "     [,1] [,2]\n",
              "[1,]    9   11\n",
              "[2,]   10   12\n"
            ],
            "text/latex": "\\begin{enumerate*}\n\\item 1\n\\item 2\n\\item 3\n\\item 4\n\\item 5\n\\item 6\n\\item 7\n\\item 8\n\\item 9\n\\item 10\n\\item 11\n\\item 12\n\\end{enumerate*}\n",
            "text/markdown": "1. 1\n2. 2\n3. 3\n4. 4\n5. 5\n6. 6\n7. 7\n8. 8\n9. 9\n10. 10\n11. 11\n12. 12\n\n\n",
            "text/html": [
              "<style>\n",
              ".list-inline {list-style: none; margin:0; padding: 0}\n",
              ".list-inline>li {display: inline-block}\n",
              ".list-inline>li:not(:last-child)::after {content: \"\\00b7\"; padding: 0 .5ex}\n",
              "</style>\n",
              "<ol class=list-inline><li>1</li><li>2</li><li>3</li><li>4</li><li>5</li><li>6</li><li>7</li><li>8</li><li>9</li><li>10</li><li>11</li><li>12</li></ol>\n"
            ]
          },
          "metadata": {}
        }
      ]
    },
    {
      "cell_type": "code",
      "metadata": {
        "colab": {
          "base_uri": "https://localhost:8080/",
          "height": 34
        },
        "id": "BTykgSkru0Wb",
        "outputId": "939d2c27-9e1e-4120-8656-7f2befb24500"
      },
      "source": [
        "# (2 x 2 x 3) 차원의 배열로 생성 가능 2\n",
        "coordinates <- array(1:12, dim = c(3, 4))\n",
        "dim(coordinates) <- c(2, 2, 3)       # 차원 변경\n",
        "coordinates"
      ],
      "execution_count": 7,
      "outputs": [
        {
          "output_type": "display_data",
          "data": {
            "text/plain": [
              ", , 1\n",
              "\n",
              "     [,1] [,2]\n",
              "[1,]    1    3\n",
              "[2,]    2    4\n",
              "\n",
              ", , 2\n",
              "\n",
              "     [,1] [,2]\n",
              "[1,]    5    7\n",
              "[2,]    6    8\n",
              "\n",
              ", , 3\n",
              "\n",
              "     [,1] [,2]\n",
              "[1,]    9   11\n",
              "[2,]   10   12\n"
            ],
            "text/latex": "\\begin{enumerate*}\n\\item 1\n\\item 2\n\\item 3\n\\item 4\n\\item 5\n\\item 6\n\\item 7\n\\item 8\n\\item 9\n\\item 10\n\\item 11\n\\item 12\n\\end{enumerate*}\n",
            "text/markdown": "1. 1\n2. 2\n3. 3\n4. 4\n5. 5\n6. 6\n7. 7\n8. 8\n9. 9\n10. 10\n11. 11\n12. 12\n\n\n",
            "text/html": [
              "<style>\n",
              ".list-inline {list-style: none; margin:0; padding: 0}\n",
              ".list-inline>li {display: inline-block}\n",
              ".list-inline>li:not(:last-child)::after {content: \"\\00b7\"; padding: 0 .5ex}\n",
              "</style>\n",
              "<ol class=list-inline><li>1</li><li>2</li><li>3</li><li>4</li><li>5</li><li>6</li><li>7</li><li>8</li><li>9</li><li>10</li><li>11</li><li>12</li></ol>\n"
            ]
          },
          "metadata": {}
        }
      ]
    },
    {
      "cell_type": "markdown",
      "metadata": {
        "id": "ztoOWOIltHX6"
      },
      "source": [
        "### (5) 리스트\n",
        "- 서로 다른 데이터 유형을 담을 수 있음\n",
        "- (키, 값) 형태의 데이터를 담는 연관 배열"
      ]
    },
    {
      "cell_type": "code",
      "metadata": {
        "colab": {
          "base_uri": "https://localhost:8080/",
          "height": 114
        },
        "id": "8SqAESmArtGx",
        "outputId": "ee2657e6-3c50-4500-d9f1-0d392627a6d4"
      },
      "source": [
        "x <- list(name = \"kimDoHyune\", height = 182)\n",
        "x"
      ],
      "execution_count": 8,
      "outputs": [
        {
          "output_type": "display_data",
          "data": {
            "text/plain": [
              "$name\n",
              "[1] \"kimDoHyune\"\n",
              "\n",
              "$height\n",
              "[1] 182\n"
            ],
            "text/latex": "\\begin{description}\n\\item[\\$name] 'kimDoHyune'\n\\item[\\$height] 182\n\\end{description}\n",
            "text/markdown": "$name\n:   'kimDoHyune'\n$height\n:   182\n\n\n",
            "text/html": [
              "<dl>\n",
              "\t<dt>$name</dt>\n",
              "\t\t<dd>'kimDoHyune'</dd>\n",
              "\t<dt>$height</dt>\n",
              "\t\t<dd>182</dd>\n",
              "</dl>\n"
            ]
          },
          "metadata": {}
        }
      ]
    },
    {
      "cell_type": "markdown",
      "metadata": {
        "id": "3Ky1h0b4t11p"
      },
      "source": [
        "## 3. 외부 데이터 불러오기"
      ]
    },
    {
      "cell_type": "markdown",
      "metadata": {
        "id": "obtGUxUvt49N"
      },
      "source": [
        "### (1) csv 파일 불러오기"
      ]
    },
    {
      "cell_type": "code",
      "metadata": {
        "id": "Elc1moLktyzu"
      },
      "source": [
        "read.csv(\"D:/DATA/traffic_death.csv\", header = T)      # header = T(TRUE) 옵션을 이용하여 csv 파일의 첫 줄을 변수명으로 지정"
      ],
      "execution_count": null,
      "outputs": []
    },
    {
      "cell_type": "markdown",
      "metadata": {
        "id": "7PtLiySQuDHt"
      },
      "source": [
        "### (2) txt 파일 불러오기"
      ]
    },
    {
      "cell_type": "code",
      "metadata": {
        "id": "iQ0ZJx6BuE4P"
      },
      "source": [
        "read.table(\"D:/DATA/traffic_death.txt\", header = T, Sep = \";\")   # Sep = \";\" 옵션으로 데이터가 ;로 구분된 데이터 파일임을 지정해주는 것, header = F(FALSE)가 기본값인 게 read.csv와는 차이점"
      ],
      "execution_count": null,
      "outputs": []
    },
    {
      "cell_type": "markdown",
      "metadata": {
        "id": "AzB_8oRVuFWi"
      },
      "source": [
        "### (3) 엑셀 파일 불러오기\n",
        "- RODBC 패키지를 이용하여 불러오는 방법\n",
        "- But, 엑셀 파일을 csv 파일로 저장하여 위의 csv 파일 불러오기 방법으로 불러오는 것을 추천"
      ]
    },
    {
      "cell_type": "code",
      "metadata": {
        "id": "8ApkHGXKuGyr"
      },
      "source": [
        "install.packages(\"RODBC\")\n",
        "library(RODBC)\n",
        "new <- odbcConnectExcel(\"D:/DATA/traffic_death\")\n",
        "data <- sqlFetch(new, \"traffic_death\")\n",
        "data"
      ],
      "execution_count": null,
      "outputs": []
    },
    {
      "cell_type": "markdown",
      "metadata": {
        "id": "ZrXGI-_tuJOu"
      },
      "source": [
        "## 4. R의 기초 함수"
      ]
    },
    {
      "cell_type": "markdown",
      "metadata": {
        "id": "ye1QbWUbwMtl"
      },
      "source": [
        "### (1) 수열 생성"
      ]
    },
    {
      "cell_type": "code",
      "metadata": {
        "colab": {
          "base_uri": "https://localhost:8080/",
          "height": 34
        },
        "id": "XxaL1mkpuL-f",
        "outputId": "16e5af1c-c322-4dc4-993f-182c3a6628bd"
      },
      "source": [
        "rep(1, 3)   # rep() 함수 : 1번째 인수를 2번째 인수만큼 반복하는 숫자 벡터"
      ],
      "execution_count": 9,
      "outputs": [
        {
          "output_type": "display_data",
          "data": {
            "text/plain": [
              "[1] 1 1 1"
            ],
            "text/latex": "\\begin{enumerate*}\n\\item 1\n\\item 1\n\\item 1\n\\end{enumerate*}\n",
            "text/markdown": "1. 1\n2. 1\n3. 1\n\n\n",
            "text/html": [
              "<style>\n",
              ".list-inline {list-style: none; margin:0; padding: 0}\n",
              ".list-inline>li {display: inline-block}\n",
              ".list-inline>li:not(:last-child)::after {content: \"\\00b7\"; padding: 0 .5ex}\n",
              "</style>\n",
              "<ol class=list-inline><li>1</li><li>1</li><li>1</li></ol>\n"
            ]
          },
          "metadata": {}
        }
      ]
    },
    {
      "cell_type": "code",
      "metadata": {
        "colab": {
          "base_uri": "https://localhost:8080/",
          "height": 34
        },
        "id": "ykFU7e1swY1E",
        "outputId": "93c8bd9b-d712-4bfc-fc10-bfcf3b5deb7a"
      },
      "source": [
        "rep(2:5, 3)"
      ],
      "execution_count": 10,
      "outputs": [
        {
          "output_type": "display_data",
          "data": {
            "text/plain": [
              " [1] 2 3 4 5 2 3 4 5 2 3 4 5"
            ],
            "text/latex": "\\begin{enumerate*}\n\\item 2\n\\item 3\n\\item 4\n\\item 5\n\\item 2\n\\item 3\n\\item 4\n\\item 5\n\\item 2\n\\item 3\n\\item 4\n\\item 5\n\\end{enumerate*}\n",
            "text/markdown": "1. 2\n2. 3\n3. 4\n4. 5\n5. 2\n6. 3\n7. 4\n8. 5\n9. 2\n10. 3\n11. 4\n12. 5\n\n\n",
            "text/html": [
              "<style>\n",
              ".list-inline {list-style: none; margin:0; padding: 0}\n",
              ".list-inline>li {display: inline-block}\n",
              ".list-inline>li:not(:last-child)::after {content: \"\\00b7\"; padding: 0 .5ex}\n",
              "</style>\n",
              "<ol class=list-inline><li>2</li><li>3</li><li>4</li><li>5</li><li>2</li><li>3</li><li>4</li><li>5</li><li>2</li><li>3</li><li>4</li><li>5</li></ol>\n"
            ]
          },
          "metadata": {}
        }
      ]
    },
    {
      "cell_type": "code",
      "metadata": {
        "colab": {
          "base_uri": "https://localhost:8080/",
          "height": 34
        },
        "id": "voTTFavAwokz",
        "outputId": "d74b189e-942a-450e-9a89-4288c1f10421"
      },
      "source": [
        "seq(1, 3)   # seq 함수 : 1번째 인수부터 2번째 인수까지 1씩 증가하는 숫자 벡터"
      ],
      "execution_count": 11,
      "outputs": [
        {
          "output_type": "display_data",
          "data": {
            "text/plain": [
              "[1] 1 2 3"
            ],
            "text/latex": "\\begin{enumerate*}\n\\item 1\n\\item 2\n\\item 3\n\\end{enumerate*}\n",
            "text/markdown": "1. 1\n2. 2\n3. 3\n\n\n",
            "text/html": [
              "<style>\n",
              ".list-inline {list-style: none; margin:0; padding: 0}\n",
              ".list-inline>li {display: inline-block}\n",
              ".list-inline>li:not(:last-child)::after {content: \"\\00b7\"; padding: 0 .5ex}\n",
              "</style>\n",
              "<ol class=list-inline><li>1</li><li>2</li><li>3</li></ol>\n"
            ]
          },
          "metadata": {}
        }
      ]
    },
    {
      "cell_type": "code",
      "metadata": {
        "colab": {
          "base_uri": "https://localhost:8080/",
          "height": 34
        },
        "id": "42Ysqb0Oww66",
        "outputId": "94729958-4d1e-4495-c842-3bda4b3eaf59"
      },
      "source": [
        "seq(1, 11, by = 2)   # by = n 옵션으로 n씩 증가하는 수열 생성"
      ],
      "execution_count": 12,
      "outputs": [
        {
          "output_type": "display_data",
          "data": {
            "text/plain": [
              "[1]  1  3  5  7  9 11"
            ],
            "text/latex": "\\begin{enumerate*}\n\\item 1\n\\item 3\n\\item 5\n\\item 7\n\\item 9\n\\item 11\n\\end{enumerate*}\n",
            "text/markdown": "1. 1\n2. 3\n3. 5\n4. 7\n5. 9\n6. 11\n\n\n",
            "text/html": [
              "<style>\n",
              ".list-inline {list-style: none; margin:0; padding: 0}\n",
              ".list-inline>li {display: inline-block}\n",
              ".list-inline>li:not(:last-child)::after {content: \"\\00b7\"; padding: 0 .5ex}\n",
              "</style>\n",
              "<ol class=list-inline><li>1</li><li>3</li><li>5</li><li>7</li><li>9</li><li>11</li></ol>\n"
            ]
          },
          "metadata": {}
        }
      ]
    },
    {
      "cell_type": "code",
      "metadata": {
        "colab": {
          "base_uri": "https://localhost:8080/",
          "height": 34
        },
        "id": "rx-i1sSNw2a_",
        "outputId": "5593ac4e-1dde-4587-8065-88c8d1725e82"
      },
      "source": [
        "seq(1, 11, length = 7)   # length = m 옵션으로 전체 수열의 개수가 m개가 되도록 자동적으로 증가하는 수열 생성"
      ],
      "execution_count": 13,
      "outputs": [
        {
          "output_type": "display_data",
          "data": {
            "text/plain": [
              "[1]  1.000000  2.666667  4.333333  6.000000  7.666667  9.333333 11.000000"
            ],
            "text/latex": "\\begin{enumerate*}\n\\item 1\n\\item 2.66666666666667\n\\item 4.33333333333333\n\\item 6\n\\item 7.66666666666667\n\\item 9.33333333333333\n\\item 11\n\\end{enumerate*}\n",
            "text/markdown": "1. 1\n2. 2.66666666666667\n3. 4.33333333333333\n4. 6\n5. 7.66666666666667\n6. 9.33333333333333\n7. 11\n\n\n",
            "text/html": [
              "<style>\n",
              ".list-inline {list-style: none; margin:0; padding: 0}\n",
              ".list-inline>li {display: inline-block}\n",
              ".list-inline>li:not(:last-child)::after {content: \"\\00b7\"; padding: 0 .5ex}\n",
              "</style>\n",
              "<ol class=list-inline><li>1</li><li>2.66666666666667</li><li>4.33333333333333</li><li>6</li><li>7.66666666666667</li><li>9.33333333333333</li><li>11</li></ol>\n"
            ]
          },
          "metadata": {}
        }
      ]
    },
    {
      "cell_type": "markdown",
      "metadata": {
        "id": "QA0XBDMkw_EP"
      },
      "source": [
        "### (2) 기초적인 행렬 계산"
      ]
    },
    {
      "cell_type": "code",
      "metadata": {
        "colab": {
          "base_uri": "https://localhost:8080/",
          "height": 34
        },
        "id": "KblkF9q1w8Tv",
        "outputId": "13081c04-b29d-4574-c617-ccd7938b89be"
      },
      "source": [
        "a <- 1:10\n",
        "a"
      ],
      "execution_count": 14,
      "outputs": [
        {
          "output_type": "display_data",
          "data": {
            "text/plain": [
              " [1]  1  2  3  4  5  6  7  8  9 10"
            ],
            "text/latex": "\\begin{enumerate*}\n\\item 1\n\\item 2\n\\item 3\n\\item 4\n\\item 5\n\\item 6\n\\item 7\n\\item 8\n\\item 9\n\\item 10\n\\end{enumerate*}\n",
            "text/markdown": "1. 1\n2. 2\n3. 3\n4. 4\n5. 5\n6. 6\n7. 7\n8. 8\n9. 9\n10. 10\n\n\n",
            "text/html": [
              "<style>\n",
              ".list-inline {list-style: none; margin:0; padding: 0}\n",
              ".list-inline>li {display: inline-block}\n",
              ".list-inline>li:not(:last-child)::after {content: \"\\00b7\"; padding: 0 .5ex}\n",
              "</style>\n",
              "<ol class=list-inline><li>1</li><li>2</li><li>3</li><li>4</li><li>5</li><li>6</li><li>7</li><li>8</li><li>9</li><li>10</li></ol>\n"
            ]
          },
          "metadata": {}
        }
      ]
    },
    {
      "cell_type": "code",
      "metadata": {
        "colab": {
          "base_uri": "https://localhost:8080/",
          "height": 34
        },
        "id": "F_u4IY4WxYgd",
        "outputId": "e6dafe82-681e-4db4-c289-90975e52e0c4"
      },
      "source": [
        "a + a"
      ],
      "execution_count": 15,
      "outputs": [
        {
          "output_type": "display_data",
          "data": {
            "text/plain": [
              " [1]  2  4  6  8 10 12 14 16 18 20"
            ],
            "text/latex": "\\begin{enumerate*}\n\\item 2\n\\item 4\n\\item 6\n\\item 8\n\\item 10\n\\item 12\n\\item 14\n\\item 16\n\\item 18\n\\item 20\n\\end{enumerate*}\n",
            "text/markdown": "1. 2\n2. 4\n3. 6\n4. 8\n5. 10\n6. 12\n7. 14\n8. 16\n9. 18\n10. 20\n\n\n",
            "text/html": [
              "<style>\n",
              ".list-inline {list-style: none; margin:0; padding: 0}\n",
              ".list-inline>li {display: inline-block}\n",
              ".list-inline>li:not(:last-child)::after {content: \"\\00b7\"; padding: 0 .5ex}\n",
              "</style>\n",
              "<ol class=list-inline><li>2</li><li>4</li><li>6</li><li>8</li><li>10</li><li>12</li><li>14</li><li>16</li><li>18</li><li>20</li></ol>\n"
            ]
          },
          "metadata": {}
        }
      ]
    },
    {
      "cell_type": "code",
      "metadata": {
        "colab": {
          "base_uri": "https://localhost:8080/",
          "height": 34
        },
        "id": "_srFLrabxZKN",
        "outputId": "f1b6e409-36fd-4529-81e5-4346d36b66cd"
      },
      "source": [
        "a - a"
      ],
      "execution_count": 16,
      "outputs": [
        {
          "output_type": "display_data",
          "data": {
            "text/plain": [
              " [1] 0 0 0 0 0 0 0 0 0 0"
            ],
            "text/latex": "\\begin{enumerate*}\n\\item 0\n\\item 0\n\\item 0\n\\item 0\n\\item 0\n\\item 0\n\\item 0\n\\item 0\n\\item 0\n\\item 0\n\\end{enumerate*}\n",
            "text/markdown": "1. 0\n2. 0\n3. 0\n4. 0\n5. 0\n6. 0\n7. 0\n8. 0\n9. 0\n10. 0\n\n\n",
            "text/html": [
              "<style>\n",
              ".list-inline {list-style: none; margin:0; padding: 0}\n",
              ".list-inline>li {display: inline-block}\n",
              ".list-inline>li:not(:last-child)::after {content: \"\\00b7\"; padding: 0 .5ex}\n",
              "</style>\n",
              "<ol class=list-inline><li>0</li><li>0</li><li>0</li><li>0</li><li>0</li><li>0</li><li>0</li><li>0</li><li>0</li><li>0</li></ol>\n"
            ]
          },
          "metadata": {}
        }
      ]
    },
    {
      "cell_type": "code",
      "metadata": {
        "colab": {
          "base_uri": "https://localhost:8080/",
          "height": 34
        },
        "id": "IQYRerK4xbNe",
        "outputId": "c89b905a-197f-4fed-f31c-239055114fe8"
      },
      "source": [
        "a / a"
      ],
      "execution_count": 17,
      "outputs": [
        {
          "output_type": "display_data",
          "data": {
            "text/plain": [
              " [1] 1 1 1 1 1 1 1 1 1 1"
            ],
            "text/latex": "\\begin{enumerate*}\n\\item 1\n\\item 1\n\\item 1\n\\item 1\n\\item 1\n\\item 1\n\\item 1\n\\item 1\n\\item 1\n\\item 1\n\\end{enumerate*}\n",
            "text/markdown": "1. 1\n2. 1\n3. 1\n4. 1\n5. 1\n6. 1\n7. 1\n8. 1\n9. 1\n10. 1\n\n\n",
            "text/html": [
              "<style>\n",
              ".list-inline {list-style: none; margin:0; padding: 0}\n",
              ".list-inline>li {display: inline-block}\n",
              ".list-inline>li:not(:last-child)::after {content: \"\\00b7\"; padding: 0 .5ex}\n",
              "</style>\n",
              "<ol class=list-inline><li>1</li><li>1</li><li>1</li><li>1</li><li>1</li><li>1</li><li>1</li><li>1</li><li>1</li><li>1</li></ol>\n"
            ]
          },
          "metadata": {}
        }
      ]
    },
    {
      "cell_type": "code",
      "metadata": {
        "colab": {
          "base_uri": "https://localhost:8080/",
          "height": 146
        },
        "id": "Lh6kJWO8xdp7",
        "outputId": "19e58a87-52d1-4395-ff96-f454bc932441"
      },
      "source": [
        "a <- c(2, 7, 3)     # (1 x 3) 행렬\n",
        "z <- a %*% t(a)     # t() : 전치행렬 생성, %*% 연산 : 두 행렬의 행렬 곱(element-wise product)\n",
        "z                   # (3 x 3) 행렬 생성"
      ],
      "execution_count": 18,
      "outputs": [
        {
          "output_type": "display_data",
          "data": {
            "text/plain": [
              "     [,1] [,2] [,3]\n",
              "[1,]  4   14    6  \n",
              "[2,] 14   49   21  \n",
              "[3,]  6   21    9  "
            ],
            "text/latex": "A matrix: 3 × 3 of type dbl\n\\begin{tabular}{lll}\n\t  4 & 14 &  6\\\\\n\t 14 & 49 & 21\\\\\n\t  6 & 21 &  9\\\\\n\\end{tabular}\n",
            "text/markdown": "\nA matrix: 3 × 3 of type dbl\n\n|  4 | 14 |  6 |\n| 14 | 49 | 21 |\n|  6 | 21 |  9 |\n\n",
            "text/html": [
              "<table class=\"dataframe\">\n",
              "<caption>A matrix: 3 × 3 of type dbl</caption>\n",
              "<tbody>\n",
              "\t<tr><td> 4</td><td>14</td><td> 6</td></tr>\n",
              "\t<tr><td>14</td><td>49</td><td>21</td></tr>\n",
              "\t<tr><td> 6</td><td>21</td><td> 9</td></tr>\n",
              "</tbody>\n",
              "</table>\n"
            ]
          },
          "metadata": {}
        }
      ]
    },
    {
      "cell_type": "code",
      "metadata": {
        "colab": {
          "base_uri": "https://localhost:8080/",
          "height": 34
        },
        "id": "Bd_Z26OUyWSL",
        "outputId": "fb16e95b-f16c-449f-ae47-a1d55e22a2d1"
      },
      "source": [
        "a * a"
      ],
      "execution_count": 19,
      "outputs": [
        {
          "output_type": "display_data",
          "data": {
            "text/plain": [
              "[1]  4 49  9"
            ],
            "text/latex": "\\begin{enumerate*}\n\\item 4\n\\item 49\n\\item 9\n\\end{enumerate*}\n",
            "text/markdown": "1. 4\n2. 49\n3. 9\n\n\n",
            "text/html": [
              "<style>\n",
              ".list-inline {list-style: none; margin:0; padding: 0}\n",
              ".list-inline>li {display: inline-block}\n",
              ".list-inline>li:not(:last-child)::after {content: \"\\00b7\"; padding: 0 .5ex}\n",
              "</style>\n",
              "<ol class=list-inline><li>4</li><li>49</li><li>9</li></ol>\n"
            ]
          },
          "metadata": {}
        }
      ]
    },
    {
      "cell_type": "code",
      "metadata": {
        "colab": {
          "base_uri": "https://localhost:8080/",
          "height": 146
        },
        "id": "MRb4UhE6yo5m",
        "outputId": "4e368f13-42fc-4216-80a9-cca2e7b6d34c"
      },
      "source": [
        "# *로 스칼라 곱의 결과를 얻을 수 있음\n",
        "A <- matrix(c(23, 41, 12, 35, 67, 1, 24, 7, 53), nrow = 3)\n",
        "A"
      ],
      "execution_count": 20,
      "outputs": [
        {
          "output_type": "display_data",
          "data": {
            "text/plain": [
              "     [,1] [,2] [,3]\n",
              "[1,] 23   35   24  \n",
              "[2,] 41   67    7  \n",
              "[3,] 12    1   53  "
            ],
            "text/latex": "A matrix: 3 × 3 of type dbl\n\\begin{tabular}{lll}\n\t 23 & 35 & 24\\\\\n\t 41 & 67 &  7\\\\\n\t 12 &  1 & 53\\\\\n\\end{tabular}\n",
            "text/markdown": "\nA matrix: 3 × 3 of type dbl\n\n| 23 | 35 | 24 |\n| 41 | 67 |  7 |\n| 12 |  1 | 53 |\n\n",
            "text/html": [
              "<table class=\"dataframe\">\n",
              "<caption>A matrix: 3 × 3 of type dbl</caption>\n",
              "<tbody>\n",
              "\t<tr><td>23</td><td>35</td><td>24</td></tr>\n",
              "\t<tr><td>41</td><td>67</td><td> 7</td></tr>\n",
              "\t<tr><td>12</td><td> 1</td><td>53</td></tr>\n",
              "</tbody>\n",
              "</table>\n"
            ]
          },
          "metadata": {}
        }
      ]
    },
    {
      "cell_type": "code",
      "metadata": {
        "colab": {
          "base_uri": "https://localhost:8080/",
          "height": 146
        },
        "id": "_y0Rn5Q5zDEs",
        "outputId": "ebbf12af-794c-470c-8c2b-7d9b6f9b3e3b"
      },
      "source": [
        "5 * A"
      ],
      "execution_count": 21,
      "outputs": [
        {
          "output_type": "display_data",
          "data": {
            "text/plain": [
              "     [,1] [,2] [,3]\n",
              "[1,] 115  175  120 \n",
              "[2,] 205  335   35 \n",
              "[3,]  60    5  265 "
            ],
            "text/latex": "A matrix: 3 × 3 of type dbl\n\\begin{tabular}{lll}\n\t 115 & 175 & 120\\\\\n\t 205 & 335 &  35\\\\\n\t  60 &   5 & 265\\\\\n\\end{tabular}\n",
            "text/markdown": "\nA matrix: 3 × 3 of type dbl\n\n| 115 | 175 | 120 |\n| 205 | 335 |  35 |\n|  60 |   5 | 265 |\n\n",
            "text/html": [
              "<table class=\"dataframe\">\n",
              "<caption>A matrix: 3 × 3 of type dbl</caption>\n",
              "<tbody>\n",
              "\t<tr><td>115</td><td>175</td><td>120</td></tr>\n",
              "\t<tr><td>205</td><td>335</td><td> 35</td></tr>\n",
              "\t<tr><td> 60</td><td>  5</td><td>265</td></tr>\n",
              "</tbody>\n",
              "</table>\n"
            ]
          },
          "metadata": {}
        }
      ]
    },
    {
      "cell_type": "code",
      "metadata": {
        "colab": {
          "base_uri": "https://localhost:8080/",
          "height": 128
        },
        "id": "LmNIj35OzHgm",
        "outputId": "20fbfaa8-e03c-4356-9226-96a934bbf196"
      },
      "source": [
        "# solve()로 역행렬 계산 가능\n",
        "solve(A)"
      ],
      "execution_count": 22,
      "outputs": [
        {
          "output_type": "display_data",
          "data": {
            "text/plain": [
              "     [,1]        [,2]        [,3]       \n",
              "[1,] -0.35743822  0.18466969  0.13746848\n",
              "[2,]  0.21069087 -0.09389813 -0.08300555\n",
              "[3,]  0.07695411 -0.04004034 -0.01069087"
            ],
            "text/latex": "A matrix: 3 × 3 of type dbl\n\\begin{tabular}{lll}\n\t -0.35743822 &  0.18466969 &  0.13746848\\\\\n\t  0.21069087 & -0.09389813 & -0.08300555\\\\\n\t  0.07695411 & -0.04004034 & -0.01069087\\\\\n\\end{tabular}\n",
            "text/markdown": "\nA matrix: 3 × 3 of type dbl\n\n| -0.35743822 |  0.18466969 |  0.13746848 |\n|  0.21069087 | -0.09389813 | -0.08300555 |\n|  0.07695411 | -0.04004034 | -0.01069087 |\n\n",
            "text/html": [
              "<table class=\"dataframe\">\n",
              "<caption>A matrix: 3 × 3 of type dbl</caption>\n",
              "<tbody>\n",
              "\t<tr><td>-0.35743822</td><td> 0.18466969</td><td> 0.13746848</td></tr>\n",
              "\t<tr><td> 0.21069087</td><td>-0.09389813</td><td>-0.08300555</td></tr>\n",
              "\t<tr><td> 0.07695411</td><td>-0.04004034</td><td>-0.01069087</td></tr>\n",
              "</tbody>\n",
              "</table>\n"
            ]
          },
          "metadata": {}
        }
      ]
    },
    {
      "cell_type": "markdown",
      "metadata": {
        "id": "AFZVQbpw1gUu"
      },
      "source": [
        "### (추가) 기초통계 정리\n",
        "- 변동계수 : 표준편차/평균, 측정단위가 서로 다른 데이터를 비교할 때, 변동계수 크다(=편차가 크다)\n",
        "- IQR(Interquartile Range; 사분위수 범위) : 3사분위수 - 1사분위수\n",
        "- 왜도(skewness) : '0'이면 정규분포, 0보다 크면 왼쪽으로 치우친 분포, 분포모양의 비대칭 정도\n",
        "- 첨도(kurtosis) : '3'보다 크면 정규분포보다 뾰족한 모양, 뾰족한 정도\n",
        "\n",
        "- describe()는 install.packages('psych')에 있음"
      ]
    },
    {
      "cell_type": "markdown",
      "metadata": {
        "id": "tH0kFZ0Gw3ln"
      },
      "source": [
        "## 5. R 데이터 핸들링"
      ]
    },
    {
      "cell_type": "code",
      "metadata": {
        "id": "iKZKj-tMznjN",
        "colab": {
          "base_uri": "https://localhost:8080/",
          "height": 34
        },
        "outputId": "362725d0-70da-42c2-a8fb-64da4ecdcda7"
      },
      "source": [
        "# R은 객체지향 언어\n",
        "# 벡터형 변수\n",
        "b <- c(\"a\", \"b\", \"c\")\n",
        "b"
      ],
      "execution_count": 23,
      "outputs": [
        {
          "output_type": "display_data",
          "data": {
            "text/plain": [
              "[1] \"a\" \"b\" \"c\""
            ],
            "text/latex": "\\begin{enumerate*}\n\\item 'a'\n\\item 'b'\n\\item 'c'\n\\end{enumerate*}\n",
            "text/markdown": "1. 'a'\n2. 'b'\n3. 'c'\n\n\n",
            "text/html": [
              "<style>\n",
              ".list-inline {list-style: none; margin:0; padding: 0}\n",
              ".list-inline>li {display: inline-block}\n",
              ".list-inline>li:not(:last-child)::after {content: \"\\00b7\"; padding: 0 .5ex}\n",
              "</style>\n",
              "<ol class=list-inline><li>'a'</li><li>'b'</li><li>'c'</li></ol>\n"
            ]
          },
          "metadata": {}
        }
      ]
    },
    {
      "cell_type": "code",
      "metadata": {
        "colab": {
          "base_uri": "https://localhost:8080/",
          "height": 34
        },
        "id": "iJoDUejvxNah",
        "outputId": "85c74c48-0d2d-4347-ad37-ee1e435982be"
      },
      "source": [
        "b[2]   # n번째 원소"
      ],
      "execution_count": 24,
      "outputs": [
        {
          "output_type": "display_data",
          "data": {
            "text/plain": [
              "[1] \"b\""
            ],
            "text/latex": "'b'",
            "text/markdown": "'b'",
            "text/html": [
              "'b'"
            ]
          },
          "metadata": {}
        }
      ]
    },
    {
      "cell_type": "code",
      "metadata": {
        "colab": {
          "base_uri": "https://localhost:8080/",
          "height": 34
        },
        "id": "PBRrvnE5xPEx",
        "outputId": "5652d3bf-8237-4433-e790-922f801af953"
      },
      "source": [
        "b[-3]  # -를 붙이고 숫자를 지정하면 n번째 제외하고 가져옴"
      ],
      "execution_count": 25,
      "outputs": [
        {
          "output_type": "display_data",
          "data": {
            "text/plain": [
              "[1] \"a\" \"b\""
            ],
            "text/latex": "\\begin{enumerate*}\n\\item 'a'\n\\item 'b'\n\\end{enumerate*}\n",
            "text/markdown": "1. 'a'\n2. 'b'\n\n\n",
            "text/html": [
              "<style>\n",
              ".list-inline {list-style: none; margin:0; padding: 0}\n",
              ".list-inline>li {display: inline-block}\n",
              ".list-inline>li:not(:last-child)::after {content: \"\\00b7\"; padding: 0 .5ex}\n",
              "</style>\n",
              "<ol class=list-inline><li>'a'</li><li>'b'</li></ol>\n"
            ]
          },
          "metadata": {}
        }
      ]
    },
    {
      "cell_type": "code",
      "metadata": {
        "colab": {
          "base_uri": "https://localhost:8080/",
          "height": 34
        },
        "id": "uYll73OVxXFY",
        "outputId": "cd56b72f-ced2-4ab1-e486-fd501a216ed5"
      },
      "source": [
        "b[c(1, 2)]"
      ],
      "execution_count": 26,
      "outputs": [
        {
          "output_type": "display_data",
          "data": {
            "text/plain": [
              "[1] \"a\" \"b\""
            ],
            "text/latex": "\\begin{enumerate*}\n\\item 'a'\n\\item 'b'\n\\end{enumerate*}\n",
            "text/markdown": "1. 'a'\n2. 'b'\n\n\n",
            "text/html": [
              "<style>\n",
              ".list-inline {list-style: none; margin:0; padding: 0}\n",
              ".list-inline>li {display: inline-block}\n",
              ".list-inline>li:not(:last-child)::after {content: \"\\00b7\"; padding: 0 .5ex}\n",
              "</style>\n",
              "<ol class=list-inline><li>'a'</li><li>'b'</li></ol>\n"
            ]
          },
          "metadata": {}
        }
      ]
    },
    {
      "cell_type": "markdown",
      "metadata": {
        "id": "gNxQJclAxbiU"
      },
      "source": [
        "### (1) 반복문과 조건문"
      ]
    },
    {
      "cell_type": "code",
      "metadata": {
        "colab": {
          "base_uri": "https://localhost:8080/",
          "height": 34
        },
        "id": "1m1TqI8FxZrs",
        "outputId": "27a41ef7-f021-4f59-a60b-9b15c32fa5a0"
      },
      "source": [
        "# for 반복문\n",
        "a <- c()   # 아무런 값도 포함되지 않는 a 벡터\n",
        "for (i in 1:9){\n",
        "  a[i] = i * i\n",
        "}\n",
        "a"
      ],
      "execution_count": 27,
      "outputs": [
        {
          "output_type": "display_data",
          "data": {
            "text/plain": [
              "[1]  1  4  9 16 25 36 49 64 81"
            ],
            "text/latex": "\\begin{enumerate*}\n\\item 1\n\\item 4\n\\item 9\n\\item 16\n\\item 25\n\\item 36\n\\item 49\n\\item 64\n\\item 81\n\\end{enumerate*}\n",
            "text/markdown": "1. 1\n2. 4\n3. 9\n4. 16\n5. 25\n6. 36\n7. 49\n8. 64\n9. 81\n\n\n",
            "text/html": [
              "<style>\n",
              ".list-inline {list-style: none; margin:0; padding: 0}\n",
              ".list-inline>li {display: inline-block}\n",
              ".list-inline>li:not(:last-child)::after {content: \"\\00b7\"; padding: 0 .5ex}\n",
              "</style>\n",
              "<ol class=list-inline><li>1</li><li>4</li><li>9</li><li>16</li><li>25</li><li>36</li><li>49</li><li>64</li><li>81</li></ol>\n"
            ]
          },
          "metadata": {}
        }
      ]
    },
    {
      "cell_type": "code",
      "metadata": {
        "colab": {
          "base_uri": "https://localhost:8080/"
        },
        "id": "oUBYqSAhxxv1",
        "outputId": "39a747d9-a051-41fe-9893-cd41706eabb3"
      },
      "source": [
        "# while 반복문\n",
        "x = 1\n",
        "while (x < 5) {\n",
        "  x = x + 1\n",
        "  print(x)\n",
        "}"
      ],
      "execution_count": 28,
      "outputs": [
        {
          "output_type": "stream",
          "name": "stdout",
          "text": [
            "[1] 2\n",
            "[1] 3\n",
            "[1] 4\n",
            "[1] 5\n"
          ]
        }
      ]
    },
    {
      "cell_type": "code",
      "metadata": {
        "colab": {
          "base_uri": "https://localhost:8080/",
          "height": 34
        },
        "id": "GzkEEqmSx5Pv",
        "outputId": "5f2eb6d6-a9b7-4ace-d753-872bbfa662b4"
      },
      "source": [
        "# if ~ else 조건문\n",
        "# ifelse(조건문, 조건을 만족할 때 반환하는 값, 조건을 만족하지 않을 때 반환하는 값)\n",
        "gender <- c(\"m\", \"f\", \"m\", \"f\", \"m\")\n",
        "gender <- ifelse(gender == \"f\", 0, 1)\n",
        "gender"
      ],
      "execution_count": 29,
      "outputs": [
        {
          "output_type": "display_data",
          "data": {
            "text/plain": [
              "[1] 1 0 1 0 1"
            ],
            "text/latex": "\\begin{enumerate*}\n\\item 1\n\\item 0\n\\item 1\n\\item 0\n\\item 1\n\\end{enumerate*}\n",
            "text/markdown": "1. 1\n2. 0\n3. 1\n4. 0\n5. 1\n\n\n",
            "text/html": [
              "<style>\n",
              ".list-inline {list-style: none; margin:0; padding: 0}\n",
              ".list-inline>li {display: inline-block}\n",
              ".list-inline>li:not(:last-child)::after {content: \"\\00b7\"; padding: 0 .5ex}\n",
              "</style>\n",
              "<ol class=list-inline><li>1</li><li>0</li><li>1</li><li>0</li><li>1</li></ol>\n"
            ]
          },
          "metadata": {}
        }
      ]
    },
    {
      "cell_type": "markdown",
      "metadata": {
        "id": "qqdH6naCyJCH"
      },
      "source": [
        "### (2) 사용자 정의 함수"
      ]
    },
    {
      "cell_type": "code",
      "metadata": {
        "colab": {
          "base_uri": "https://localhost:8080/"
        },
        "id": "e9PbwtxFyHjK",
        "outputId": "29813c6f-544e-457c-9132-de3438e9659f"
      },
      "source": [
        "foruse <- function(a){\n",
        "  isum <- 0\n",
        "  for (i in 1:a){\n",
        "    isum = isum + i\n",
        "  }\n",
        "  print(isum)\n",
        "}\n",
        "\n",
        "foruse(3)"
      ],
      "execution_count": 30,
      "outputs": [
        {
          "output_type": "stream",
          "name": "stdout",
          "text": [
            "[1] 6\n"
          ]
        }
      ]
    },
    {
      "cell_type": "markdown",
      "metadata": {
        "id": "keon-xgUzY7O"
      },
      "source": [
        "### (3) 기타 유용한 기능들"
      ]
    },
    {
      "cell_type": "code",
      "metadata": {
        "colab": {
          "base_uri": "https://localhost:8080/",
          "height": 34
        },
        "id": "iDuU7sEHzVMv",
        "outputId": "f007feae-9e91-420e-c228-0731978ee4e8"
      },
      "source": [
        "# paste() : 입력받은 문자열들을 하나로 붙여줌\n",
        "number <- 1:5\n",
        "alphabet <- c(\"a\", \"b\", \"c\")\n",
        "paste(number ,alphabet)"
      ],
      "execution_count": 31,
      "outputs": [
        {
          "output_type": "display_data",
          "data": {
            "text/plain": [
              "[1] \"1 a\" \"2 b\" \"3 c\" \"4 a\" \"5 b\""
            ],
            "text/latex": "\\begin{enumerate*}\n\\item '1 a'\n\\item '2 b'\n\\item '3 c'\n\\item '4 a'\n\\item '5 b'\n\\end{enumerate*}\n",
            "text/markdown": "1. '1 a'\n2. '2 b'\n3. '3 c'\n4. '4 a'\n5. '5 b'\n\n\n",
            "text/html": [
              "<style>\n",
              ".list-inline {list-style: none; margin:0; padding: 0}\n",
              ".list-inline>li {display: inline-block}\n",
              ".list-inline>li:not(:last-child)::after {content: \"\\00b7\"; padding: 0 .5ex}\n",
              "</style>\n",
              "<ol class=list-inline><li>'1 a'</li><li>'2 b'</li><li>'3 c'</li><li>'4 a'</li><li>'5 b'</li></ol>\n"
            ]
          },
          "metadata": {}
        }
      ]
    },
    {
      "cell_type": "code",
      "metadata": {
        "colab": {
          "base_uri": "https://localhost:8080/",
          "height": 34
        },
        "id": "CaYBrmtvzmVL",
        "outputId": "d79f7e84-d26e-40a8-84c0-fc71a9c36b9d"
      },
      "source": [
        "paste(number, alphabet, sep = ' to the ')  # sep 옵션으로 붙이고자 하는 문자열들 사이에 삽입 가능"
      ],
      "execution_count": 32,
      "outputs": [
        {
          "output_type": "display_data",
          "data": {
            "text/plain": [
              "[1] \"1 to the a\" \"2 to the b\" \"3 to the c\" \"4 to the a\" \"5 to the b\""
            ],
            "text/latex": "\\begin{enumerate*}\n\\item '1 to the a'\n\\item '2 to the b'\n\\item '3 to the c'\n\\item '4 to the a'\n\\item '5 to the b'\n\\end{enumerate*}\n",
            "text/markdown": "1. '1 to the a'\n2. '2 to the b'\n3. '3 to the c'\n4. '4 to the a'\n5. '5 to the b'\n\n\n",
            "text/html": [
              "<style>\n",
              ".list-inline {list-style: none; margin:0; padding: 0}\n",
              ".list-inline>li {display: inline-block}\n",
              ".list-inline>li:not(:last-child)::after {content: \"\\00b7\"; padding: 0 .5ex}\n",
              "</style>\n",
              "<ol class=list-inline><li>'1 to the a'</li><li>'2 to the b'</li><li>'3 to the c'</li><li>'4 to the a'</li><li>'5 to the b'</li></ol>\n"
            ]
          },
          "metadata": {}
        }
      ]
    },
    {
      "cell_type": "code",
      "metadata": {
        "colab": {
          "base_uri": "https://localhost:8080/",
          "height": 34
        },
        "id": "x1JKUsJbztIn",
        "outputId": "62dac18d-21f5-43a8-c123-862d438d962b"
      },
      "source": [
        "# substr() : 부분 문자열 추출\n",
        "country <- c(\"korea\", \"Japan\")\n",
        "substr(country, 1, 2)    # 1번 글자부터 2개의 글자만 추출"
      ],
      "execution_count": 33,
      "outputs": [
        {
          "output_type": "display_data",
          "data": {
            "text/plain": [
              "[1] \"ko\" \"Ja\""
            ],
            "text/latex": "\\begin{enumerate*}\n\\item 'ko'\n\\item 'Ja'\n\\end{enumerate*}\n",
            "text/markdown": "1. 'ko'\n2. 'Ja'\n\n\n",
            "text/html": [
              "<style>\n",
              ".list-inline {list-style: none; margin:0; padding: 0}\n",
              ".list-inline>li {display: inline-block}\n",
              ".list-inline>li:not(:last-child)::after {content: \"\\00b7\"; padding: 0 .5ex}\n",
              "</style>\n",
              "<ol class=list-inline><li>'ko'</li><li>'Ja'</li></ol>\n"
            ]
          },
          "metadata": {}
        }
      ]
    },
    {
      "cell_type": "code",
      "metadata": {
        "colab": {
          "base_uri": "https://localhost:8080/",
          "height": 34
        },
        "id": "mWYnRCJuz5BT",
        "outputId": "9d690719-6b04-4eb1-fa69-ea6a675d3668"
      },
      "source": [
        "# as. : 자료형 데이터 구조 변환\n",
        "# as.data.frame(x) : 데이터 프레임 형식으로 변환\n",
        "# as.list(x) : 리스트 형식으로 변환\n",
        "# as.matrix(x) : 행렬 형식으로 변환\n",
        "# as.vector(x) : 벡터 형식으로 변환\n",
        "# as.factor(x) : factor 형식으로 변환\n",
        "as.integer(3.14)     # 실수형 벡터를 정수형 벡터로 변환"
      ],
      "execution_count": 34,
      "outputs": [
        {
          "output_type": "display_data",
          "data": {
            "text/plain": [
              "[1] 3"
            ],
            "text/latex": "3",
            "text/markdown": "3",
            "text/html": [
              "3"
            ]
          },
          "metadata": {}
        }
      ]
    },
    {
      "cell_type": "code",
      "metadata": {
        "colab": {
          "base_uri": "https://localhost:8080/",
          "height": 69
        },
        "id": "b3hz6DyP0iFX",
        "outputId": "ac0aa4d8-0dd6-43a6-c231-c2d78fd276c0"
      },
      "source": [
        "as.numeric(\"foo\")   # \"foo\"는 숫자형 자료가 아니므로 결측치인 'NA'가 출력되며 경고문이 발생"
      ],
      "execution_count": 35,
      "outputs": [
        {
          "output_type": "stream",
          "name": "stderr",
          "text": [
            "Warning message in eval(expr, envir, enclos):\n",
            "“NAs introduced by coercion”\n"
          ]
        },
        {
          "output_type": "display_data",
          "data": {
            "text/plain": [
              "[1] NA"
            ],
            "text/latex": "<NA>",
            "text/markdown": "&lt;NA&gt;",
            "text/html": [
              "&lt;NA&gt;"
            ]
          },
          "metadata": {}
        }
      ]
    },
    {
      "cell_type": "code",
      "metadata": {
        "colab": {
          "base_uri": "https://localhost:8080/",
          "height": 34
        },
        "id": "iDINsmEF0ptP",
        "outputId": "5071eab8-c58d-43d7-e9b4-e02c88d34557"
      },
      "source": [
        "as.numeric(FALSE)    # 논리값인 TRUE와 FALSE를 수치형으로 변환할 때는 각각 0, 1로 바꿈"
      ],
      "execution_count": 36,
      "outputs": [
        {
          "output_type": "display_data",
          "data": {
            "text/plain": [
              "[1] 0"
            ],
            "text/latex": "0",
            "text/markdown": "0",
            "text/html": [
              "0"
            ]
          },
          "metadata": {}
        }
      ]
    },
    {
      "cell_type": "code",
      "metadata": {
        "colab": {
          "base_uri": "https://localhost:8080/",
          "height": 34
        },
        "id": "geO3hY1T0v71",
        "outputId": "d98e376b-981b-4eef-ff06-7f3db86a0249"
      },
      "source": [
        "as.logical(0.45)"
      ],
      "execution_count": 37,
      "outputs": [
        {
          "output_type": "display_data",
          "data": {
            "text/plain": [
              "[1] TRUE"
            ],
            "text/latex": "TRUE",
            "text/markdown": "TRUE",
            "text/html": [
              "TRUE"
            ]
          },
          "metadata": {}
        }
      ]
    },
    {
      "cell_type": "code",
      "metadata": {
        "colab": {
          "base_uri": "https://localhost:8080/",
          "height": 34
        },
        "id": "RzFnQiKl0xmk",
        "outputId": "9024f49a-c4fd-4faf-8676-de95a61fce0e"
      },
      "source": [
        "# as.Date() : 문자열을 날짜로 변환\n",
        "as.Date(\"2018-01-13\")"
      ],
      "execution_count": 38,
      "outputs": [
        {
          "output_type": "display_data",
          "data": {
            "text/plain": [
              "[1] \"2018-01-13\""
            ],
            "text/latex": "2018-01-13",
            "text/markdown": "2018-01-13",
            "text/html": [
              "<time datetime=\"2018-01-13\">2018-01-13</time>"
            ]
          },
          "metadata": {}
        }
      ]
    },
    {
      "cell_type": "code",
      "metadata": {
        "colab": {
          "base_uri": "https://localhost:8080/",
          "height": 34
        },
        "id": "Lm8B9Pbo04zs",
        "outputId": "91462f25-4002-43cd-d2ec-246e0a70111e"
      },
      "source": [
        "as.Date(\"01/13/2018\", format = \"%m/%d/%Y\")    # as.Date는 기본적으로 문자열이 yyyy-mm-dd로 가정. 'format' 옵션으로 입력되는 날짜의 형식을 지정해줘야 함"
      ],
      "execution_count": 39,
      "outputs": [
        {
          "output_type": "display_data",
          "data": {
            "text/plain": [
              "[1] \"2018-01-13\""
            ],
            "text/latex": "2018-01-13",
            "text/markdown": "2018-01-13",
            "text/html": [
              "<time datetime=\"2018-01-13\">2018-01-13</time>"
            ]
          },
          "metadata": {}
        }
      ]
    },
    {
      "cell_type": "code",
      "metadata": {
        "colab": {
          "base_uri": "https://localhost:8080/",
          "height": 34
        },
        "id": "QLI-bBg11I6K",
        "outputId": "1a1ee81a-244b-4057-be5b-3f99758b5818"
      },
      "source": [
        "format(Sys.Date())    # 현재 날짜 반환"
      ],
      "execution_count": 40,
      "outputs": [
        {
          "output_type": "display_data",
          "data": {
            "text/plain": [
              "[1] \"2021-11-01\""
            ],
            "text/latex": "'2021-11-01'",
            "text/markdown": "'2021-11-01'",
            "text/html": [
              "'2021-11-01'"
            ]
          },
          "metadata": {}
        }
      ]
    },
    {
      "cell_type": "code",
      "metadata": {
        "colab": {
          "base_uri": "https://localhost:8080/",
          "height": 34
        },
        "id": "hQxyg78z1P7a",
        "outputId": "08ec6e81-f28b-49f6-e959-e74138fce8b7"
      },
      "source": [
        "format(Sys.Date(), format = \"%m/%d/%Y\")      # 'format' 옵션으로 yyyy-mm-dd 형식 대신 mm/dd/yyyy 형식으로 문자열 출력"
      ],
      "execution_count": 41,
      "outputs": [
        {
          "output_type": "display_data",
          "data": {
            "text/plain": [
              "[1] \"11/01/2021\""
            ],
            "text/latex": "'11/01/2021'",
            "text/markdown": "'11/01/2021'",
            "text/html": [
              "'11/01/2021'"
            ]
          },
          "metadata": {}
        }
      ]
    },
    {
      "cell_type": "code",
      "metadata": {
        "colab": {
          "base_uri": "https://localhost:8080/",
          "height": 34
        },
        "id": "eO6lXCC81dNl",
        "outputId": "2eac8ce4-ad24-4583-dec6-8af2c1845905"
      },
      "source": [
        "format(Sys.Date(), \"%a\")      # 현재 요일 출력"
      ],
      "execution_count": 42,
      "outputs": [
        {
          "output_type": "display_data",
          "data": {
            "text/plain": [
              "[1] \"Mon\""
            ],
            "text/latex": "'Mon'",
            "text/markdown": "'Mon'",
            "text/html": [
              "'Mon'"
            ]
          },
          "metadata": {}
        }
      ]
    },
    {
      "cell_type": "code",
      "metadata": {
        "colab": {
          "base_uri": "https://localhost:8080/",
          "height": 34
        },
        "id": "F-M1pq741jQs",
        "outputId": "b7430817-9f86-4726-8291-f489b5b51d2f"
      },
      "source": [
        "format(Sys.Date(), \"%b\")      # 현재 월 출력"
      ],
      "execution_count": 43,
      "outputs": [
        {
          "output_type": "display_data",
          "data": {
            "text/plain": [
              "[1] \"Nov\""
            ],
            "text/latex": "'Nov'",
            "text/markdown": "'Nov'",
            "text/html": [
              "'Nov'"
            ]
          },
          "metadata": {}
        }
      ]
    },
    {
      "cell_type": "code",
      "metadata": {
        "colab": {
          "base_uri": "https://localhost:8080/",
          "height": 34
        },
        "id": "fB9_AALA1o0U",
        "outputId": "d235179d-a05a-4958-dd38-83baf88967a6"
      },
      "source": [
        "format(Sys.Date(), \"%y\")      # 현재 두 자리 숫자로 연도 출력"
      ],
      "execution_count": 44,
      "outputs": [
        {
          "output_type": "display_data",
          "data": {
            "text/plain": [
              "[1] \"21\""
            ],
            "text/latex": "'21'",
            "text/markdown": "'21'",
            "text/html": [
              "'21'"
            ]
          },
          "metadata": {}
        }
      ]
    },
    {
      "cell_type": "code",
      "metadata": {
        "colab": {
          "base_uri": "https://localhost:8080/",
          "height": 34
        },
        "id": "htcJqg-01ssu",
        "outputId": "372db903-203a-4610-fc30-7d920b4f8014"
      },
      "source": [
        "format(Sys.Date(), \"%Y\")      # 현재 네 자리 숫자로 연도 출력"
      ],
      "execution_count": 45,
      "outputs": [
        {
          "output_type": "display_data",
          "data": {
            "text/plain": [
              "[1] \"2021\""
            ],
            "text/latex": "'2021'",
            "text/markdown": "'2021'",
            "text/html": [
              "'2021'"
            ]
          },
          "metadata": {}
        }
      ]
    },
    {
      "cell_type": "markdown",
      "metadata": {
        "id": "3-UU3_Fo1wEk"
      },
      "source": [
        "## 6. R 그래픽 기능"
      ]
    },
    {
      "cell_type": "markdown",
      "metadata": {
        "id": "sQf4yb3w1yCI"
      },
      "source": [
        "### (1) 산점도 그래프"
      ]
    },
    {
      "cell_type": "code",
      "metadata": {
        "colab": {
          "base_uri": "https://localhost:8080/",
          "height": 437
        },
        "id": "JTRpyoLK1u0s",
        "outputId": "6858b1d6-09b5-472b-d002-c728a78e35a8"
      },
      "source": [
        "math <- c(95, 65, 80, 92, 60, 75, 88, 100, 75, 68)\n",
        "scie <- c(90, 70, 80, 95, 65, 70, 85, 95, 70, 60)\n",
        "plot(math, scie)"
      ],
      "execution_count": 46,
      "outputs": [
        {
          "output_type": "display_data",
          "data": {
            "image/png": "[encoded data removed]",
            "text/plain": [
              "plot without title"
            ]
          },
          "metadata": {
            "image/png": {
              "width": 420,
              "height": 420
            }
          }
        }
      ]
    },
    {
      "cell_type": "markdown",
      "metadata": {
        "id": "nDatIm7r2u4b"
      },
      "source": [
        "### (2) 산점도 행렬\n",
        "- 여러 가지 변수들에 대해 각각의 산점도를 한눈에 살펴볼 수 있는 확정된 산점도 행렬"
      ]
    },
    {
      "cell_type": "code",
      "metadata": {
        "colab": {
          "base_uri": "https://localhost:8080/",
          "height": 437
        },
        "id": "g6xyFFSk2t4p",
        "outputId": "3ffe5dd7-d718-44a5-f32f-896bdcc1ee6a"
      },
      "source": [
        "# pairs()를 이용해 범주(그룹)를 색깔로 구분하여 산점도 행렬 그리기\n",
        "# main : 최상단에 제목 표기\n",
        "# pch : 점의 모양\n",
        "# bg = \"색상1, 색상2, 색상3\"[컬럼1, 컬럼2, 컬럼3] : species에 따라 다른 색상 부여\n",
        "# unclass(iris$Species) : iris의 Species 데이터를 분할(1, 2, 3의 값으로)\n",
        "pairs(iris[1:4], main = \"Anderson's Iris Data -- 3 species\", pch = 21, bg = c(\"red\", \"green\", \"blue\")[unclass(iris$Species)])"
      ],
      "execution_count": 47,
      "outputs": [
        {
          "output_type": "display_data",
          "data": {
            "image/png": "[encoded data removed]",
            "text/plain": [
              "plot without title"
            ]
          },
          "metadata": {
            "image/png": {
              "width": 420,
              "height": 420
            }
          }
        }
      ]
    },
    {
      "cell_type": "markdown",
      "metadata": {
        "id": "0c0CNXHf3jr4"
      },
      "source": [
        "### (3) 히스토그램과 상자그림\n",
        "- hist() 함수의 다양한 옵션\n",
        "- breaks : 계급구간의 수 설정\n",
        "- probability = T : 상대도수 히스토그램으로 출력\n",
        "- ylim = c(0, 0.04) : 그래프 y축 설정"
      ]
    },
    {
      "cell_type": "code",
      "metadata": {
        "colab": {
          "base_uri": "https://localhost:8080/",
          "height": 437
        },
        "id": "EcVBUG4g3Jw9",
        "outputId": "41e645e9-8b1c-4d55-996d-13a6ba1c34bd"
      },
      "source": [
        "height <- c(182, 160, 165, 170, 163, 160, 181, 166, 159, 145, 175)\n",
        "hist(height)"
      ],
      "execution_count": 48,
      "outputs": [
        {
          "output_type": "display_data",
          "data": {
            "image/png": "[encoded data removed]",
            "text/plain": [
              "Plot with title “Histogram of height”"
            ]
          },
          "metadata": {
            "image/png": {
              "width": 420,
              "height": 420
            }
          }
        }
      ]
    },
    {
      "cell_type": "code",
      "metadata": {
        "colab": {
          "base_uri": "https://localhost:8080/",
          "height": 437
        },
        "id": "76SVJWbh5DYn",
        "outputId": "53eef48c-b89b-4bb5-a887-45734f72cd52"
      },
      "source": [
        "boxplot(height)"
      ],
      "execution_count": 49,
      "outputs": [
        {
          "output_type": "display_data",
          "data": {
            "image/png": "[encoded data removed]",
            "text/plain": [
              "plot without title"
            ]
          },
          "metadata": {
            "image/png": {
              "width": 420,
              "height": 420
            }
          }
        }
      ]
    }
  ]
}