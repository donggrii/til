{
 "cells": [
  {
   "cell_type": "markdown",
   "id": "316bba90",
   "metadata": {},
   "source": [
    "## PyTorch에서 사용법"
   ]
  },
  {
   "cell_type": "markdown",
   "id": "6ac0aeef",
   "metadata": {},
   "source": [
    "- 이미지를 표현하는 데이터 텐서와 정답(label) 초기화"
   ]
  },
  {
   "cell_type": "code",
   "execution_count": 1,
   "id": "82ada7be",
   "metadata": {},
   "outputs": [],
   "source": [
    "import torch, torchvision\n",
    "\n",
    "model = torchvision.models.resnet18(pretrained = True)\n",
    "data = torch.rand(1, 3, 64, 64)       # 1개의 이미지 : 채널 3, 높이 64, 넓이 64\n",
    "labels = torch.rand(1, 1000)          # 정답의 shape : (1, 1000)"
   ]
  },
  {
   "cell_type": "markdown",
   "id": "e20b76f2",
   "metadata": {},
   "source": [
    "- 순전파 단계"
   ]
  },
  {
   "cell_type": "code",
   "execution_count": 2,
   "id": "bc1a88ed",
   "metadata": {},
   "outputs": [],
   "source": [
    "prediction = model(data)     # 순전파 단계(forward pass)"
   ]
  },
  {
   "cell_type": "markdown",
   "id": "dfd0fee2",
   "metadata": {},
   "source": [
    "- error를 계산하고 역전파 시행 단계"
   ]
  },
  {
   "cell_type": "code",
   "execution_count": 3,
   "id": "3233a141",
   "metadata": {},
   "outputs": [],
   "source": [
    "loss = (prediction - labels).sum()\n",
    "loss.backward()              # 역전파 단계(backward pass)"
   ]
  },
  {
   "cell_type": "markdown",
   "id": "aafac786",
   "metadata": {},
   "source": [
    "- Optimizer에 모델의 모든 매개변수 등록"
   ]
  },
  {
   "cell_type": "code",
   "execution_count": 4,
   "id": "829590f7",
   "metadata": {},
   "outputs": [],
   "source": [
    "optim = torch.optim.SGD(model.parameters(), lr = 1e-2, momentum = 0.9)"
   ]
  },
  {
   "cell_type": "markdown",
   "id": "c96f5b0e",
   "metadata": {},
   "source": [
    "- 경사하강법(gradient descent) 시작 : Optimizer는 gradient에 따라 각 매개변수 조정"
   ]
  },
  {
   "cell_type": "code",
   "execution_count": 5,
   "id": "c416a560",
   "metadata": {},
   "outputs": [],
   "source": [
    "optim.step()                 # 경사하강법(gradient descent) 시작"
   ]
  },
  {
   "cell_type": "markdown",
   "id": "57fec248",
   "metadata": {},
   "source": [
    "## Autograd에서 미분(differentiation)"
   ]
  },
  {
   "cell_type": "markdown",
   "id": "9534297a",
   "metadata": {},
   "source": [
    "- requires_grad = True를 갖는 2개의 텐서 a와 b 생성"
   ]
  },
  {
   "cell_type": "code",
   "execution_count": 6,
   "id": "0949e4c5",
   "metadata": {},
   "outputs": [],
   "source": [
    "import torch\n",
    "\n",
    "a = torch.tensor([2., 3.], requires_grad = True)\n",
    "b = torch.tensor([6., 4.], requires_grad = True)"
   ]
  },
  {
   "cell_type": "markdown",
   "id": "b2abade2",
   "metadata": {},
   "source": [
    "- a와 b는 신경망의 매개변수, Q는 오차라고 가정"
   ]
  },
  {
   "cell_type": "code",
   "execution_count": 7,
   "id": "7a508c2f",
   "metadata": {},
   "outputs": [],
   "source": [
    "Q = 3 * a ** 3 - b ** 2"
   ]
  },
  {
   "cell_type": "markdown",
   "id": "3bd00b6c",
   "metadata": {},
   "source": [
    "- 매개변수들에 대한 오차의 변화도를 구하기 위해 .backward() 호출\n",
    "- 각 텐서의 .grad 속성에 저장됨"
   ]
  },
  {
   "cell_type": "code",
   "execution_count": 8,
   "id": "2f99d658",
   "metadata": {},
   "outputs": [
    {
     "name": "stdout",
     "output_type": "stream",
     "text": [
      "tensor([True, True])\n",
      "tensor([True, True])\n"
     ]
    }
   ],
   "source": [
    "external_grad = torch.tensor([1., 1.])\n",
    "Q.backward(gradient = external_grad)\n",
    "\n",
    "# 수집된 변화도가 올바른지 확인\n",
    "print(9 * a ** 2 == a.grad)\n",
    "print((-2) * b == b.grad)"
   ]
  },
  {
   "cell_type": "markdown",
   "id": "d9e2efdc",
   "metadata": {},
   "source": [
    "## DAG에서 제외하기"
   ]
  },
  {
   "cell_type": "markdown",
   "id": "62a3e1d9",
   "metadata": {},
   "source": [
    "- 입력 텐서 중 단 하나라도 requires_grad = True를 갖는 경우, 연산의 결과 텐서도 변화도를 갖게 됨"
   ]
  },
  {
   "cell_type": "code",
   "execution_count": 9,
   "id": "202c2e99",
   "metadata": {},
   "outputs": [
    {
     "name": "stdout",
     "output_type": "stream",
     "text": [
      "Does 'a' require gradients? : False\n",
      "Does 'b' require gradients? : True\n"
     ]
    }
   ],
   "source": [
    "x = torch.rand(5, 5)\n",
    "y = torch.rand(5, 5)\n",
    "z = torch.rand((5, 5), requires_grad = True)\n",
    "\n",
    "a = x + y\n",
    "print(f\"Does 'a' require gradients? : {a.requires_grad}\")\n",
    "b = x + z\n",
    "print(f\"Does 'b' require gradients? : {b.requires_grad}\")"
   ]
  },
  {
   "cell_type": "markdown",
   "id": "880ebf48",
   "metadata": {},
   "source": [
    "- 미리 학습된 모델을 미세조정하는 경우, 일반적으로 모델의 모든 매개변수를 고정하고 분류 계층(classifier layer)만 변경"
   ]
  },
  {
   "cell_type": "code",
   "execution_count": 10,
   "id": "4b52400d",
   "metadata": {},
   "outputs": [],
   "source": [
    "from torch import nn, optim\n",
    "\n",
    "model = torchvision.models.resnet18(pretrained = True)\n",
    "\n",
    "# 신경망의 모든 매개변수를 고정\n",
    "for param in model.parameters():\n",
    "    param.requires_grad = False"
   ]
  },
  {
   "cell_type": "code",
   "execution_count": 11,
   "id": "94edf34e",
   "metadata": {},
   "outputs": [],
   "source": [
    "# 고정되지 않은 새로운 선형 계층(linear layer)으로 대체\n",
    "model.fc = nn.Linear(512, 10)"
   ]
  },
  {
   "cell_type": "code",
   "execution_count": 12,
   "id": "c9b27fcb",
   "metadata": {},
   "outputs": [],
   "source": [
    "# 분류기만 최적화\n",
    "optimizer = optim.SGD(model.parameters(), lr = 1e-2, momentum = 0.9)"
   ]
  },
  {
   "cell_type": "code",
   "execution_count": null,
   "id": "ca077444",
   "metadata": {},
   "outputs": [],
   "source": []
  }
 ],
 "metadata": {
  "kernelspec": {
   "display_name": "tensorflow2",
   "language": "python",
   "name": "tf"
  },
  "language_info": {
   "codemirror_mode": {
    "name": "ipython",
    "version": 3
   },
   "file_extension": ".py",
   "mimetype": "text/x-python",
   "name": "python",
   "nbconvert_exporter": "python",
   "pygments_lexer": "ipython3",
   "version": "3.7.10"
  }
 },
 "nbformat": 4,
 "nbformat_minor": 5
}
