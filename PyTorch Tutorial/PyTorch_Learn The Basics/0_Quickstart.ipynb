{
 "cells": [
  {
   "cell_type": "markdown",
   "id": "5d224f76",
   "metadata": {},
   "source": [
    "### 데이터 작업하기"
   ]
  },
  {
   "cell_type": "code",
   "execution_count": 1,
   "id": "21b66cb1",
   "metadata": {},
   "outputs": [],
   "source": [
    "import torch\n",
    "from torch import nn\n",
    "from torch.utils.data import DataLoader\n",
    "from torchvision import datasets\n",
    "from torchvision.transforms import ToTensor, Lambda, Compose\n",
    "import matplotlib.pyplot as plt"
   ]
  },
  {
   "cell_type": "code",
   "execution_count": 2,
   "id": "1725559a",
   "metadata": {},
   "outputs": [],
   "source": [
    "# 공개 데이터셋에서 학습 데이터 내려받기\n",
    "training_data = datasets.FashionMNIST(\n",
    "    root = \"data\",\n",
    "    train = True,\n",
    "    download = True,\n",
    "    transform = ToTensor()\n",
    ")\n",
    "\n",
    "# 공개 데이터셋에서 테스트 데이터 내려받기\n",
    "test_data = datasets.FashionMNIST(\n",
    "    root = \"data\",\n",
    "    train = False,\n",
    "    download = True,\n",
    "    transform = ToTensor()\n",
    ")"
   ]
  },
  {
   "cell_type": "code",
   "execution_count": 3,
   "id": "fa4fcb17",
   "metadata": {},
   "outputs": [
    {
     "name": "stdout",
     "output_type": "stream",
     "text": [
      "Dataset FashionMNIST\n",
      "    Number of datapoints: 60000\n",
      "    Root location: data\n",
      "    Split: Train\n",
      "    StandardTransform\n",
      "Transform: ToTensor() \n",
      "\n",
      "Dataset FashionMNIST\n",
      "    Number of datapoints: 10000\n",
      "    Root location: data\n",
      "    Split: Test\n",
      "    StandardTransform\n",
      "Transform: ToTensor()\n"
     ]
    }
   ],
   "source": [
    "print(training_data, '\\n')\n",
    "print(test_data)"
   ]
  },
  {
   "cell_type": "code",
   "execution_count": 4,
   "id": "7db67b79",
   "metadata": {},
   "outputs": [
    {
     "name": "stdout",
     "output_type": "stream",
     "text": [
      "Shape of X [N, C, H, W]:  torch.Size([64, 1, 28, 28])\n",
      "Shape of y:  torch.Size([64]) torch.int64\n",
      "Example of y:  tensor([9, 2, 1, 1, 6, 1, 4, 6, 5, 7, 4, 5, 7, 3, 4, 1, 2, 4, 8, 0, 2, 5, 7, 9,\n",
      "        1, 4, 6, 0, 9, 3, 8, 8, 3, 3, 8, 0, 7, 5, 7, 9, 6, 1, 3, 7, 6, 7, 2, 1,\n",
      "        2, 2, 4, 4, 5, 8, 2, 2, 8, 4, 8, 0, 7, 7, 8, 5])\n"
     ]
    }
   ],
   "source": [
    "batch_size = 64\n",
    "\n",
    "# DataLoader 생성\n",
    "train_dataloader = DataLoader(training_data, batch_size = batch_size)\n",
    "test_dataloader = DataLoader(test_data, batch_size = batch_size)\n",
    "\n",
    "for X, y in test_dataloader:\n",
    "    print(\"Shape of X [N, C, H, W]: \", X.shape)\n",
    "    print(\"Shape of y: \", y.shape, y.dtype)\n",
    "    print(\"Example of y: \", y)\n",
    "    break"
   ]
  },
  {
   "cell_type": "markdown",
   "id": "30bb75fb",
   "metadata": {},
   "source": [
    "### 모델 만들기"
   ]
  },
  {
   "cell_type": "markdown",
   "id": "67211c63",
   "metadata": {},
   "source": [
    "- \\_\\_init\\_\\_ 함수 : 신경망 layer 정의\n",
    "- forward 함수 : 신경망에 데이터를 어떻게 전달할지 지정"
   ]
  },
  {
   "cell_type": "code",
   "execution_count": 5,
   "id": "af0f513e",
   "metadata": {},
   "outputs": [
    {
     "name": "stdout",
     "output_type": "stream",
     "text": [
      "Using cpu device\n",
      "NeuralNetwork(\n",
      "  (flatten): Flatten(start_dim=1, end_dim=-1)\n",
      "  (linear_relu_stack): Sequential(\n",
      "    (0): Linear(in_features=784, out_features=512, bias=True)\n",
      "    (1): ReLU()\n",
      "    (2): Linear(in_features=512, out_features=512, bias=True)\n",
      "    (3): ReLU()\n",
      "    (4): Linear(in_features=512, out_features=10, bias=True)\n",
      "  )\n",
      ")\n"
     ]
    }
   ],
   "source": [
    "# 학습에 사용할 CPU나 GPU 장치 지정\n",
    "device = \"cuda\" if torch.cuda.is_available() else \"cpu\"\n",
    "print(f\"Using {device} device\")\n",
    "\n",
    "# 모델 정의하기\n",
    "class NeuralNetwork(nn.Module):\n",
    "    def __init__(self):\n",
    "        super(NeuralNetwork, self).__init__()\n",
    "        self.flatten = nn.Flatten()\n",
    "        self.linear_relu_stack = nn.Sequential(\n",
    "            nn.Linear(28 * 28, 512),\n",
    "            nn.ReLU(),\n",
    "            nn.Linear(512, 512),\n",
    "            nn.ReLU(),\n",
    "            nn.Linear(512, 10)\n",
    "        )\n",
    "        \n",
    "    def forward(self, x):\n",
    "        x = self.flatten(x)\n",
    "        logits = self.linear_relu_stack(x)\n",
    "        return logits\n",
    "    \n",
    "model = NeuralNetwork().to(device)\n",
    "print(model)"
   ]
  },
  {
   "cell_type": "markdown",
   "id": "2598fde0",
   "metadata": {},
   "source": [
    "### 모델 매개변수 최적화하기"
   ]
  },
  {
   "cell_type": "code",
   "execution_count": 6,
   "id": "9dacf8b9",
   "metadata": {},
   "outputs": [],
   "source": [
    "loss_fn = nn.CrossEntropyLoss()\n",
    "optimizer = torch.optim.SGD(model.parameters(), lr = 1e-3)"
   ]
  },
  {
   "cell_type": "code",
   "execution_count": 7,
   "id": "3a1b9643",
   "metadata": {},
   "outputs": [],
   "source": [
    "# len(train_dataloader) : 938 (= math.ceil(60000 / 64))\n",
    "# len(train_dataloader.dataset) : 60000\n",
    "def train(dataloader, model, loss_fn, optimizer):\n",
    "    size = len(dataloader.dataset)               # number of train_dataloader samples : 60000\n",
    "    for batch, (X, y) in enumerate(dataloader):  # range(938)\n",
    "        X, y = X.to(device), y.to(device)\n",
    "        \n",
    "        # 예측 오류 계산\n",
    "        pred = model(X)\n",
    "        loss = loss_fn(pred, y)\n",
    "        \n",
    "        # 역전파\n",
    "        optimizer.zero_grad()\n",
    "        loss.backward()\n",
    "        optimizer.step()\n",
    "        \n",
    "        if batch % 100 == 0:\n",
    "            loss, current = loss.item(), batch * len(X)               # len(X) : 64\n",
    "            print(f\"loss: {loss:>7f}  [{current:>5d}/{size:>5d}]\")"
   ]
  },
  {
   "cell_type": "code",
   "execution_count": 8,
   "id": "a4419e1e",
   "metadata": {},
   "outputs": [],
   "source": [
    "# len(test_dataloader) : 157 (= math.ceil(10000 / 64))\n",
    "# len(test_dataloader.dataset) : 10000\n",
    "def test(dataloader, model, loss_fn):\n",
    "    size = len(dataloader.dataset)              # number of test_dataloader samples : 10000\n",
    "    num_batches = len(dataloader)               # 157\n",
    "    model.eval()\n",
    "    test_loss, correct = 0, 0\n",
    "    with torch.no_grad():\n",
    "        for X, y in dataloader:                 # range(157)\n",
    "            X, y = X.to(device), y.to(device)\n",
    "            pred = model(X)\n",
    "            test_loss += loss_fn(pred, y).item()\n",
    "            correct += (pred.argmax(1) == y).type(torch.float).sum().item()   # batch 내에 있는 모든 샘플들의 정답 일치 여부 확인\n",
    "    test_loss /= num_batches\n",
    "    correct /= size\n",
    "    print(f\"Test Error: \\n Accuracy: {(100 * correct):>0.1f}%, Avg loss: {test_loss:>8f} \\n\")"
   ]
  },
  {
   "cell_type": "code",
   "execution_count": 9,
   "id": "b032f97f",
   "metadata": {
    "scrolled": true
   },
   "outputs": [
    {
     "name": "stdout",
     "output_type": "stream",
     "text": [
      "Epoch 1\n",
      "---------------------------\n",
      "loss: 2.299303  [    0/60000]\n",
      "loss: 2.288324  [ 6400/60000]\n",
      "loss: 2.269500  [12800/60000]\n",
      "loss: 2.272497  [19200/60000]\n",
      "loss: 2.244609  [25600/60000]\n",
      "loss: 2.226052  [32000/60000]\n",
      "loss: 2.227932  [38400/60000]\n",
      "loss: 2.197902  [44800/60000]\n",
      "loss: 2.207786  [51200/60000]\n",
      "loss: 2.172077  [57600/60000]\n",
      "Test Error: \n",
      " Accuracy: 41.6%, Avg loss: 2.164954 \n",
      "\n",
      "Epoch 2\n",
      "---------------------------\n",
      "loss: 2.174172  [    0/60000]\n",
      "loss: 2.161851  [ 6400/60000]\n",
      "loss: 2.108220  [12800/60000]\n",
      "loss: 2.131803  [19200/60000]\n",
      "loss: 2.070730  [25600/60000]\n",
      "loss: 2.023987  [32000/60000]\n",
      "loss: 2.042817  [38400/60000]\n",
      "loss: 1.971409  [44800/60000]\n",
      "loss: 1.988590  [51200/60000]\n",
      "loss: 1.909857  [57600/60000]\n",
      "Test Error: \n",
      " Accuracy: 55.6%, Avg loss: 1.906232 \n",
      "\n",
      "Epoch 3\n",
      "---------------------------\n",
      "loss: 1.939901  [    0/60000]\n",
      "loss: 1.905677  [ 6400/60000]\n",
      "loss: 1.794354  [12800/60000]\n",
      "loss: 1.838351  [19200/60000]\n",
      "loss: 1.717839  [25600/60000]\n",
      "loss: 1.674184  [32000/60000]\n",
      "loss: 1.691119  [38400/60000]\n",
      "loss: 1.598331  [44800/60000]\n",
      "loss: 1.623237  [51200/60000]\n",
      "loss: 1.510987  [57600/60000]\n",
      "Test Error: \n",
      " Accuracy: 60.7%, Avg loss: 1.529912 \n",
      "\n",
      "Epoch 4\n",
      "---------------------------\n",
      "loss: 1.602284  [    0/60000]\n",
      "loss: 1.558198  [ 6400/60000]\n",
      "loss: 1.411903  [12800/60000]\n",
      "loss: 1.480992  [19200/60000]\n",
      "loss: 1.359883  [25600/60000]\n",
      "loss: 1.354759  [32000/60000]\n",
      "loss: 1.365359  [38400/60000]\n",
      "loss: 1.298148  [44800/60000]\n",
      "loss: 1.329111  [51200/60000]\n",
      "loss: 1.225086  [57600/60000]\n",
      "Test Error: \n",
      " Accuracy: 63.2%, Avg loss: 1.253226 \n",
      "\n",
      "Epoch 5\n",
      "---------------------------\n",
      "loss: 1.338448  [    0/60000]\n",
      "loss: 1.312206  [ 6400/60000]\n",
      "loss: 1.146837  [12800/60000]\n",
      "loss: 1.248658  [19200/60000]\n",
      "loss: 1.128410  [25600/60000]\n",
      "loss: 1.149704  [32000/60000]\n",
      "loss: 1.168981  [38400/60000]\n",
      "loss: 1.114181  [44800/60000]\n",
      "loss: 1.149118  [51200/60000]\n",
      "loss: 1.063057  [57600/60000]\n",
      "Test Error: \n",
      " Accuracy: 64.6%, Avg loss: 1.085981 \n",
      "\n",
      "Done!\n"
     ]
    }
   ],
   "source": [
    "epochs = 5\n",
    "for t in range(epochs):\n",
    "    print(f\"Epoch {t + 1}\\n---------------------------\")\n",
    "    train(train_dataloader, model, loss_fn, optimizer)\n",
    "    test(test_dataloader, model, loss_fn)\n",
    "print(\"Done!\")"
   ]
  },
  {
   "cell_type": "markdown",
   "id": "b7f1dd35",
   "metadata": {},
   "source": [
    "### 모델 저장하기"
   ]
  },
  {
   "cell_type": "code",
   "execution_count": 10,
   "id": "43e07102",
   "metadata": {},
   "outputs": [
    {
     "name": "stdout",
     "output_type": "stream",
     "text": [
      "Saved PyTorch Model State to model.pth\n"
     ]
    }
   ],
   "source": [
    "torch.save(model.state_dict(), \"model.pth\")\n",
    "print(\"Saved PyTorch Model State to model.pth\")"
   ]
  },
  {
   "cell_type": "markdown",
   "id": "34a87a97",
   "metadata": {},
   "source": [
    "### 모델 불러오기"
   ]
  },
  {
   "cell_type": "code",
   "execution_count": 11,
   "id": "26615a5c",
   "metadata": {},
   "outputs": [
    {
     "data": {
      "text/plain": [
       "<All keys matched successfully>"
      ]
     },
     "execution_count": 11,
     "metadata": {},
     "output_type": "execute_result"
    }
   ],
   "source": [
    "model = NeuralNetwork()\n",
    "model.load_state_dict(torch.load(\"model.pth\"))"
   ]
  },
  {
   "cell_type": "code",
   "execution_count": 12,
   "id": "2a2b0756",
   "metadata": {},
   "outputs": [
    {
     "name": "stdout",
     "output_type": "stream",
     "text": [
      "Predicted: \"Ankle boot\", Actual: \"Ankle boot\"\n"
     ]
    }
   ],
   "source": [
    "classes = [\n",
    "    \"T-shirt/top\",\n",
    "    \"Trouser\",\n",
    "    \"Pullover\",\n",
    "    \"Dress\",\n",
    "    \"Coat\",\n",
    "    \"Sandal\",\n",
    "    \"Shirt\",\n",
    "    \"Sneaker\",\n",
    "    \"Bag\",\n",
    "    \"Ankle boot\"\n",
    "]\n",
    "\n",
    "model.eval()\n",
    "x, y = test_data[0][0], test_data[0][1]\n",
    "with torch.no_grad():\n",
    "    pred = model(x)\n",
    "    predicted, actual = classes[pred[0].argmax(0)], classes[y]\n",
    "    print(f'Predicted: \"{predicted}\", Actual: \"{actual}\"')"
   ]
  },
  {
   "cell_type": "code",
   "execution_count": null,
   "id": "b75d2ef8",
   "metadata": {},
   "outputs": [],
   "source": []
  }
 ],
 "metadata": {
  "kernelspec": {
   "display_name": "tensorflow2",
   "language": "python",
   "name": "tf"
  },
  "language_info": {
   "codemirror_mode": {
    "name": "ipython",
    "version": 3
   },
   "file_extension": ".py",
   "mimetype": "text/x-python",
   "name": "python",
   "nbconvert_exporter": "python",
   "pygments_lexer": "ipython3",
   "version": "3.7.10"
  }
 },
 "nbformat": 4,
 "nbformat_minor": 5
}
